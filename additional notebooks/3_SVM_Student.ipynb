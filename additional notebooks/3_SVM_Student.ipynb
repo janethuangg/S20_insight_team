{
 "cells": [
  {
   "cell_type": "code",
   "execution_count": null,
   "metadata": {},
   "outputs": [],
   "source": [
    "import pandas as pd\n",
    "import numpy as np\n",
    "import seaborn as sns\n",
    "from matplotlib import pyplot as plt\n",
    "sns.set()\n",
    "\n",
    "from sklearn import datasets\n",
    "from sklearn.svm import SVC\n",
    "from sklearn.svm import SVR\n",
    "from sklearn.model_selection import train_test_split\n",
    "from sklearn.model_selection import cross_val_score\n",
    "from sklearn.model_selection import GridSearchCV"
   ]
  },
  {
   "cell_type": "markdown",
   "metadata": {},
   "source": [
    "# SVM and Multi-Category Models\n",
    "\n",
    "As we often are given situtations where the required analysis is underpinned by a multiclass response, there are many different families of models that allow us to perform this type of analysis. In this notebook, we will review how to implement many varieties of Support Vector Machines to expand our toolbox of skills. Let's start by looking at a simple example of a Support Vector Machine for classification."
   ]
  },
  {
   "cell_type": "code",
   "execution_count": null,
   "metadata": {},
   "outputs": [],
   "source": [
    "Xs,y = datasets.make_classification(n_features=5,n_samples=1000)\n",
    "X_train, X_test, y_train, y_test = train_test_split(Xs, y, test_size=0.2)"
   ]
  },
  {
   "cell_type": "code",
   "execution_count": null,
   "metadata": {},
   "outputs": [],
   "source": [
    "#Simple Train-Test\n",
    "svc = SVC(gamma='scale')\n",
    "svc.fit(X_train,y_train)\n",
    "print(svc.score(X_test,y_test))"
   ]
  },
  {
   "cell_type": "code",
   "execution_count": null,
   "metadata": {},
   "outputs": [],
   "source": [
    "#Cross-Validated\n",
    "svc = SVC(gamma='auto')\n",
    "print(cross_val_score(svc,Xs,y,cv=10).mean().round(4))"
   ]
  },
  {
   "cell_type": "code",
   "execution_count": null,
   "metadata": {},
   "outputs": [],
   "source": [
    "#Hyperparameter Tuned Cross-Validated\n",
    "svc = SVC()\n",
    "grid = {'C':[0.1,0.3,0.5,0.7,1],\n",
    "        'kernel':['rbf','linear','poly','sigmoid'],\n",
    "        'gamma':['auto','scale']}\n",
    "gscv = GridSearchCV(svc,grid,cv=4,verbose=True,return_train_score=False)\n",
    "gscv.fit(Xs,y)"
   ]
  },
  {
   "cell_type": "code",
   "execution_count": null,
   "metadata": {},
   "outputs": [],
   "source": [
    "scores = pd.DataFrame(gscv.cv_results_).filter(regex='param_+|mean_test_score'\n",
    "                                            ).sort_values('mean_test_score',\n",
    "                                                          ascending=False).reset_index().drop(['index'],axis=1)\n",
    "scores.head(15)"
   ]
  },
  {
   "cell_type": "markdown",
   "metadata": {},
   "source": [
    "And that's it for the simplest model! After all the pain of the last few weeks, we can finally quickly and thoroughly implement an SVM model using everything we learned over the past few weeks.\n",
    "\n",
    "Which do you think is the best?"
   ]
  },
  {
   "cell_type": "markdown",
   "metadata": {},
   "source": [
    "## Regression\n",
    "As this runs, since have included more tuning parameters, take note of the amount of time it takes to do all of the computations. Since this is not optimized for large amounts of data, you will see a greater than multinomial scaling of computation time. We will discuss ways of going about optimizing this solutions in a few minutes - for now however we simply suffer."
   ]
  },
  {
   "cell_type": "code",
   "execution_count": null,
   "metadata": {},
   "outputs": [],
   "source": [
    "Xs,y = datasets.make_regression(n_features=5,n_samples=1000,noise=0.3)"
   ]
  },
  {
   "cell_type": "code",
   "execution_count": null,
   "metadata": {},
   "outputs": [],
   "source": [
    "svr = SVR()\n",
    "grid = {'C':[0.1,0.2,0.3],\n",
    "        'kernel':['rbf','linear','poly','sigmoid'],\n",
    "        'gamma':['auto','scale'],\n",
    "        'tol':[1e-5,1e-4,1e-3,1e-2],\n",
    "        'epsilon':[0,0.5,1,2]}\n",
    "gscv = GridSearchCV(svr,grid,cv=4,verbose=True,return_train_score=False)\n",
    "gscv.fit(Xs,y)"
   ]
  },
  {
   "cell_type": "code",
   "execution_count": null,
   "metadata": {},
   "outputs": [],
   "source": [
    "scores = pd.DataFrame(gscv.cv_results_).filter(regex='param_+|mean_test_score'\n",
    "                                            ).sort_values('mean_test_score',\n",
    "                                                          ascending=True).reset_index().drop(['index'],axis=1)\n",
    "scores.head(15)"
   ]
  }
 ],
 "metadata": {
  "kernelspec": {
   "display_name": "Python 3",
   "language": "python",
   "name": "python3"
  },
  "language_info": {
   "codemirror_mode": {
    "name": "ipython",
    "version": 3
   },
   "file_extension": ".py",
   "mimetype": "text/x-python",
   "name": "python",
   "nbconvert_exporter": "python",
   "pygments_lexer": "ipython3",
   "version": "3.7.5"
  }
 },
 "nbformat": 4,
 "nbformat_minor": 2
}
