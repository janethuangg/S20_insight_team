{
 "cells": [
  {
   "cell_type": "markdown",
   "metadata": {},
   "source": [
    "# Pandas and Numpy Features for Data Cleaning and Manipulation\n",
    "### This notebook will give an introduction to manipulating data with Pandas and Numpy"
   ]
  },
  {
   "cell_type": "code",
   "execution_count": 1,
   "metadata": {},
   "outputs": [],
   "source": [
    "#Importing and naming the packages\n",
    "import pandas as pd\n",
    "import numpy as np"
   ]
  },
  {
   "cell_type": "markdown",
   "metadata": {},
   "source": [
    "# Lists"
   ]
  },
  {
   "cell_type": "code",
   "execution_count": 2,
   "metadata": {},
   "outputs": [
    {
     "name": "stdout",
     "output_type": "stream",
     "text": [
      "['Hello', 'World']\n"
     ]
    }
   ],
   "source": [
    "#Lists - an ordered series of data (Integer, Float, Objects, etc.)\n",
    "a = ['Hello','World']\n",
    "print(a)"
   ]
  },
  {
   "cell_type": "markdown",
   "metadata": {},
   "source": [
    "#### Lists can be changed via native functions to Python."
   ]
  },
  {
   "cell_type": "code",
   "execution_count": 3,
   "metadata": {},
   "outputs": [
    {
     "name": "stdout",
     "output_type": "stream",
     "text": [
      "['Hello', 'World', '!']\n"
     ]
    }
   ],
   "source": [
    "#Via appending to the end\n",
    "a.append('!')\n",
    "print(a)"
   ]
  },
  {
   "cell_type": "code",
   "execution_count": 4,
   "metadata": {},
   "outputs": [
    {
     "name": "stdout",
     "output_type": "stream",
     "text": [
      "['Hello', 'World', '!', 'I', 'Am', 'A', 'List', '.']\n"
     ]
    }
   ],
   "source": [
    "#Or extending multiple items.\n",
    "a.extend(['I','Am','A','List','.'])\n",
    "print(a)"
   ]
  },
  {
   "cell_type": "code",
   "execution_count": 5,
   "metadata": {},
   "outputs": [
    {
     "name": "stdout",
     "output_type": "stream",
     "text": [
      "['Hello', '!', 'I', 'Am', 'A', 'List', '.']\n"
     ]
    }
   ],
   "source": [
    "#You can also remove an item\n",
    "a.remove('World')\n",
    "print(a)"
   ]
  },
  {
   "cell_type": "code",
   "execution_count": 6,
   "metadata": {},
   "outputs": [
    {
     "name": "stdout",
     "output_type": "stream",
     "text": [
      "['Hello', 1, '!', 'I', 'Am', 'A', 'List', '.']\n"
     ]
    }
   ],
   "source": [
    "#Or put one back in\n",
    "a.insert(1,1) #Location, Value\n",
    "print(a)"
   ]
  },
  {
   "cell_type": "code",
   "execution_count": 7,
   "metadata": {},
   "outputs": [
    {
     "data": {
      "text/plain": [
       "1"
      ]
     },
     "execution_count": 7,
     "metadata": {},
     "output_type": "execute_result"
    }
   ],
   "source": [
    "#Count a number of entries\n",
    "a.count('Hello')"
   ]
  },
  {
   "cell_type": "code",
   "execution_count": 8,
   "metadata": {},
   "outputs": [
    {
     "name": "stdout",
     "output_type": "stream",
     "text": [
      "['!', '.', 'A', 'Am', 'Hello', 'I', 'List']\n"
     ]
    }
   ],
   "source": [
    "#Organize by Value, only String!\n",
    "a.remove(1)\n",
    "a.sort()\n",
    "print(a)"
   ]
  },
  {
   "cell_type": "code",
   "execution_count": 9,
   "metadata": {},
   "outputs": [
    {
     "name": "stdout",
     "output_type": "stream",
     "text": [
      "['List', 'I', 'Hello', 'Am', 'A', '.', '!']\n"
     ]
    }
   ],
   "source": [
    "#Switch the order around\n",
    "a.reverse()\n",
    "print(a)"
   ]
  },
  {
   "cell_type": "code",
   "execution_count": 10,
   "metadata": {},
   "outputs": [
    {
     "data": {
      "text/plain": [
       "'List'"
      ]
     },
     "execution_count": 10,
     "metadata": {},
     "output_type": "execute_result"
    }
   ],
   "source": [
    "#Grab a single item\n",
    "a.pop(0)"
   ]
  },
  {
   "cell_type": "code",
   "execution_count": 11,
   "metadata": {},
   "outputs": [
    {
     "name": "stdout",
     "output_type": "stream",
     "text": [
      "[]\n"
     ]
    }
   ],
   "source": [
    "#Or clear the entire thing\n",
    "a.clear()\n",
    "print(a)"
   ]
  },
  {
   "cell_type": "markdown",
   "metadata": {},
   "source": [
    "### Practice\n",
    "#### Create an empty list. Add a set of five numbers to it. Then, iterate through that list and multiply each number by 5. Finally, print the list."
   ]
  },
  {
   "cell_type": "code",
   "execution_count": null,
   "metadata": {},
   "outputs": [],
   "source": []
  },
  {
   "cell_type": "markdown",
   "metadata": {},
   "source": [
    "### Lambda Functions\n",
    "Lambda functions will serve as the basis of the data generation we will be doing\n",
    "in our regression and visualization talks.\n",
    "\n",
    "Lambda functions allow you to define anonymous functions for one time use. Map functions house another function and a list that\n",
    "is being iterated over. Casting to a list ensures the datatype stored is not a numpy array or pandas dataframe, but a native\n",
    "list.\n",
    "\n",
    "To go over some of the syntax, a lambda function looks like $lambda\\ l1,\\ l2:\\ l1+l2,\\ L1,\\ L2$. What this creates is a function\n",
    "that iterates over both lists L1 and L2, given they are the same shape, that allows you to return the sum of the two. Let's see."
   ]
  },
  {
   "cell_type": "code",
   "execution_count": 13,
   "metadata": {},
   "outputs": [
    {
     "data": {
      "text/plain": [
       "<function __main__.<lambda>(x)>"
      ]
     },
     "execution_count": 13,
     "metadata": {},
     "output_type": "execute_result"
    }
   ],
   "source": [
    "x = [0,1,2,3,4,5]\n",
    "lambda x: x**x"
   ]
  },
  {
   "cell_type": "markdown",
   "metadata": {},
   "source": [
    "Note, this didn't do anything. As we mentioned above, we must wrap this in a map function to apply this over an iterable."
   ]
  },
  {
   "cell_type": "code",
   "execution_count": 14,
   "metadata": {},
   "outputs": [
    {
     "name": "stdout",
     "output_type": "stream",
     "text": [
      "<map object at 0x1146f5710>\n"
     ]
    }
   ],
   "source": [
    "print(map(lambda x: x**x, [0,1,2,3,4,5]))"
   ]
  },
  {
   "cell_type": "markdown",
   "metadata": {},
   "source": [
    "So we can now iterate a function over a list, but we want to be able to return another list. Let's complete this with out cast."
   ]
  },
  {
   "cell_type": "code",
   "execution_count": 15,
   "metadata": {
    "scrolled": true
   },
   "outputs": [
    {
     "name": "stdout",
     "output_type": "stream",
     "text": [
      "[1, 1, 4, 27, 256, 3125]\n"
     ]
    }
   ],
   "source": [
    "print(list(map(lambda x: x**x, [0,1,2,3,4,5])))"
   ]
  },
  {
   "cell_type": "markdown",
   "metadata": {},
   "source": [
    "### Practice\n",
    "#### Create two lists of five numbers. Then using a mapped lambda function, iterate through that list and multiply each number by the number in the same position of the other list. Finally sort the values and print them."
   ]
  },
  {
   "cell_type": "code",
   "execution_count": null,
   "metadata": {},
   "outputs": [],
   "source": []
  },
  {
   "cell_type": "markdown",
   "metadata": {},
   "source": [
    "# Numpy\n",
    "### Numpy arrays are similar. They are also an ordered series of items."
   ]
  },
  {
   "cell_type": "code",
   "execution_count": 23,
   "metadata": {},
   "outputs": [
    {
     "name": "stdout",
     "output_type": "stream",
     "text": [
      "[1 2 3 4 5]\n"
     ]
    }
   ],
   "source": [
    "#They can be created directly from Lists\n",
    "a = np.array([1, 2, 3, 4, 5])\n",
    "print(a)"
   ]
  },
  {
   "cell_type": "code",
   "execution_count": 24,
   "metadata": {},
   "outputs": [
    {
     "name": "stdout",
     "output_type": "stream",
     "text": [
      "[[1 2]\n",
      " [3 4]]\n"
     ]
    }
   ],
   "source": [
    "#And have multiple dimensions\n",
    "a = np.array([[1,2],[3,4]])\n",
    "print(a)"
   ]
  },
  {
   "cell_type": "code",
   "execution_count": 30,
   "metadata": {},
   "outputs": [
    {
     "name": "stdout",
     "output_type": "stream",
     "text": [
      "[0. 0. 0. 0. 0. 0. 0. 0. 0. 0.] : zeros\n",
      "\n",
      "[[1 1 1]\n",
      " [1 1 1]\n",
      " [1 1 1]] : ones\n",
      "\n",
      "[[2.92 2.92 2.92]\n",
      " [2.92 2.92 2.92]\n",
      " [2.92 2.92 2.92]] : 2.92s\n",
      "\n",
      "[ 1  2  3  4  5  6  7  8  9 10] : 1 - 11\n",
      "\n",
      "[0.         1.57079633 3.14159265 4.71238898 6.28318531] : linearly spaced\n",
      "\n",
      "[0.69646919 0.28613933 0.22685145 0.55131477 0.71946897] : random numbers\n",
      "\n",
      "[ 0.32210607 -0.05151772 -0.20420096  1.97934843 -1.61930007] : normal random\n",
      "\n",
      "[9 3 4 0 0] : integer random\n"
     ]
    }
   ],
   "source": [
    "#And have many more features\n",
    "#Creating zeros\n",
    "a = np.zeros(10, dtype=float)\n",
    "print(a,': zeros\\n')\n",
    "\n",
    "#Creating ones\n",
    "b = np.ones((3, 3), dtype=int)\n",
    "print(b,': ones\\n')\n",
    "\n",
    "#For any other number\n",
    "c = np.full((3, 3), 2.92)\n",
    "print(c,': 2.92s\\n')\n",
    "\n",
    "#For a range of numbers\n",
    "d = np.arange(1, 11)\n",
    "print(d,': 1 - 11\\n')\n",
    "\n",
    "#For evenly spaced between two numbers\n",
    "e = np.linspace(0, np.pi*2, 5)\n",
    "print(e,': linearly spaced\\n')\n",
    "\n",
    "#For Random Numbers\n",
    "np.random.seed(123)\n",
    "f = np.random.random(5)\n",
    "print(f,': random numbers\\n')\n",
    "\n",
    "#For Normal Random\n",
    "g = np.random.randn(5)\n",
    "print(g,': normal random\\n')\n",
    "\n",
    "#Random integers between 0 and 10\n",
    "h = np.random.randint(0, 10, size=5)\n",
    "print(h,': integer random')"
   ]
  },
  {
   "cell_type": "code",
   "execution_count": 28,
   "metadata": {},
   "outputs": [
    {
     "name": "stdout",
     "output_type": "stream",
     "text": [
      "[ 1.0000000e+00  1.2246468e-16 -1.0000000e+00 -2.4492936e-16\n",
      "  1.0000000e+00]\n"
     ]
    }
   ],
   "source": [
    "#You can also apply computations over entire arrays\n",
    "a = np.array([1, 2, 3, 4, 5])\n",
    "b = np.sin(a*np.pi/2)\n",
    "print(b)"
   ]
  },
  {
   "cell_type": "markdown",
   "metadata": {},
   "source": [
    "### Practice\n",
    "#### Create an array of the numbers  1 - 100, apply a modulus of 3 to the numbers. Print the results"
   ]
  },
  {
   "cell_type": "code",
   "execution_count": null,
   "metadata": {},
   "outputs": [],
   "source": []
  },
  {
   "cell_type": "markdown",
   "metadata": {},
   "source": [
    "# Pandas\n",
    "### Pandas also has its own approach to list-like data with a label (automatically or manually applied) and a value"
   ]
  },
  {
   "cell_type": "code",
   "execution_count": 35,
   "metadata": {},
   "outputs": [
    {
     "name": "stdout",
     "output_type": "stream",
     "text": [
      "0     1\n",
      "1     3\n",
      "2     5\n",
      "3     7\n",
      "4    10\n",
      "dtype: int64\n",
      "A    1\n",
      "B    1\n",
      "C    1\n",
      "dtype: int64\n",
      "1    A\n",
      "2    B\n",
      "3    C\n",
      "dtype: object\n",
      "0    4\n",
      "1    1\n",
      "2    7\n",
      "3    3\n",
      "4    2\n",
      "dtype: int64\n"
     ]
    }
   ],
   "source": [
    "#Series from List\n",
    "a = pd.Series([1, 3, 5, 7, 10])\n",
    "print(a)\n",
    "\n",
    "#Series of Single Value\n",
    "b = pd.Series(1, index=['A', 'B', 'C'])\n",
    "print(b)\n",
    "\n",
    "#Series from Dictionary\n",
    "c = pd.Series({1: 'A', 2: 'B', 3: 'C'})\n",
    "print(c)\n",
    "\n",
    "#Series of Random Integers\n",
    "d = pd.Series(np.random.randint(10, size=5))\n",
    "print(d)"
   ]
  },
  {
   "cell_type": "code",
   "execution_count": 36,
   "metadata": {},
   "outputs": [
    {
     "name": "stdout",
     "output_type": "stream",
     "text": [
      "0     2\n",
      "1     6\n",
      "2    10\n",
      "3    14\n",
      "4    20\n",
      "dtype: int64\n",
      "0    2\n",
      "1    0\n",
      "2    1\n",
      "3    2\n",
      "4    2\n",
      "dtype: int64\n"
     ]
    }
   ],
   "source": [
    "#Series can be calculated over without looping\n",
    "b = a*2\n",
    "print(b)\n",
    "\n",
    "c = b%3\n",
    "print(c)"
   ]
  },
  {
   "cell_type": "code",
   "execution_count": 37,
   "metadata": {},
   "outputs": [
    {
     "name": "stdout",
     "output_type": "stream",
     "text": [
      "False\n",
      "True\n"
     ]
    }
   ],
   "source": [
    "#And also allow for quick checking of the items in the list\n",
    "a = pd.Series({'A':1,'B':2})\n",
    "print('C' in a)\n",
    "print('A' in a)"
   ]
  },
  {
   "cell_type": "markdown",
   "metadata": {},
   "source": [
    "### More often though, your data will work better as a DataFrame. This is essentially the way Pandas represents tabular data, such as you would see in SQL or Excel."
   ]
  },
  {
   "cell_type": "code",
   "execution_count": 38,
   "metadata": {},
   "outputs": [
    {
     "name": "stdout",
     "output_type": "stream",
     "text": [
      "   A  B\n",
      "0  0  0\n",
      "1  1  2\n",
      "2  2  4\n",
      "            Population\n",
      "California    38332521\n",
      "Texas         26448193\n",
      "New York      19651127\n",
      "Florida       19552860\n",
      "            Population    area\n",
      "California  38332521.0  423967\n",
      "Florida     19552860.0  170312\n",
      "Illinois           NaN  149995\n",
      "New York    19651127.0  141297\n",
      "Texas       26448193.0  695662\n"
     ]
    }
   ],
   "source": [
    "#DataFrame from Dictionary\n",
    "df = pd.DataFrame([{'A': i, 'B': 2*i} for i in range(3)]) \n",
    "print(df)\n",
    "\n",
    "#DataFrame from Series\n",
    "population_series = pd.Series({'California': 38332521,\n",
    "                        'Texas': 26448193,\n",
    "                        'New York': 19651127,\n",
    "                        'Florida': 19552860})\n",
    "population_df = pd.DataFrame(population_series, columns=['Population'])\n",
    "print(population_df)\n",
    "\n",
    "#DataFrame from Dictionary\n",
    "area_series = pd.Series({'California': 423967,\n",
    "                  'Texas': 695662,\n",
    "                  'New York': 141297,\n",
    "                  'Florida': 170312,\n",
    "                  'Illinois': 149995})\n",
    "area_df = pd.DataFrame({'Population': population_series,\n",
    "                  'area': area_series})\n",
    "print(area_df)"
   ]
  },
  {
   "cell_type": "code",
   "execution_count": 39,
   "metadata": {},
   "outputs": [
    {
     "name": "stdout",
     "output_type": "stream",
     "text": [
      "   A  B  C\n",
      "0  0  0  0\n",
      "1  1  2  4\n",
      "2  2  4  8\n"
     ]
    }
   ],
   "source": [
    "#You can also very quickly create new columns and formulas\n",
    "df['C'] = df['B']*2\n",
    "print(df)"
   ]
  },
  {
   "cell_type": "code",
   "execution_count": 41,
   "metadata": {},
   "outputs": [
    {
     "name": "stdout",
     "output_type": "stream",
     "text": [
      "   A  B\n",
      "1  1  2\n",
      "2  2  4\n"
     ]
    }
   ],
   "source": [
    "#As well as dropping them (Axis = 1 means columns, Axis = 2 means rows)\n",
    "df = df.drop(0, axis=0)\n",
    "print(df)"
   ]
  },
  {
   "cell_type": "markdown",
   "metadata": {},
   "source": [
    "### Through these main features of Pandas, you can create nearly anything you want. Lets work with some larger data"
   ]
  },
  {
   "cell_type": "markdown",
   "metadata": {},
   "source": [
    "Data can be imported by reading a CSV or just about any filetype. For example:\n",
    "\n",
    "*data = read_csv('~/Downloads/data.csv')*\n",
    "\n",
    "This would read a CSV of name data.csv from your downloads folder on a Mac.\n",
    "\n",
    "In our case, we will import some data from another package."
   ]
  },
  {
   "cell_type": "code",
   "execution_count": 42,
   "metadata": {},
   "outputs": [
    {
     "data": {
      "text/html": [
       "<div>\n",
       "<style scoped>\n",
       "    .dataframe tbody tr th:only-of-type {\n",
       "        vertical-align: middle;\n",
       "    }\n",
       "\n",
       "    .dataframe tbody tr th {\n",
       "        vertical-align: top;\n",
       "    }\n",
       "\n",
       "    .dataframe thead th {\n",
       "        text-align: right;\n",
       "    }\n",
       "</style>\n",
       "<table border=\"1\" class=\"dataframe\">\n",
       "  <thead>\n",
       "    <tr style=\"text-align: right;\">\n",
       "      <th></th>\n",
       "      <th>sepal length (cm)</th>\n",
       "      <th>sepal width (cm)</th>\n",
       "      <th>petal length (cm)</th>\n",
       "      <th>petal width (cm)</th>\n",
       "    </tr>\n",
       "  </thead>\n",
       "  <tbody>\n",
       "    <tr>\n",
       "      <th>145</th>\n",
       "      <td>6.7</td>\n",
       "      <td>3.0</td>\n",
       "      <td>5.2</td>\n",
       "      <td>2.3</td>\n",
       "    </tr>\n",
       "    <tr>\n",
       "      <th>146</th>\n",
       "      <td>6.3</td>\n",
       "      <td>2.5</td>\n",
       "      <td>5.0</td>\n",
       "      <td>1.9</td>\n",
       "    </tr>\n",
       "    <tr>\n",
       "      <th>147</th>\n",
       "      <td>6.5</td>\n",
       "      <td>3.0</td>\n",
       "      <td>5.2</td>\n",
       "      <td>2.0</td>\n",
       "    </tr>\n",
       "    <tr>\n",
       "      <th>148</th>\n",
       "      <td>6.2</td>\n",
       "      <td>3.4</td>\n",
       "      <td>5.4</td>\n",
       "      <td>2.3</td>\n",
       "    </tr>\n",
       "    <tr>\n",
       "      <th>149</th>\n",
       "      <td>5.9</td>\n",
       "      <td>3.0</td>\n",
       "      <td>5.1</td>\n",
       "      <td>1.8</td>\n",
       "    </tr>\n",
       "  </tbody>\n",
       "</table>\n",
       "</div>"
      ],
      "text/plain": [
       "     sepal length (cm)  sepal width (cm)  petal length (cm)  petal width (cm)\n",
       "145                6.7               3.0                5.2               2.3\n",
       "146                6.3               2.5                5.0               1.9\n",
       "147                6.5               3.0                5.2               2.0\n",
       "148                6.2               3.4                5.4               2.3\n",
       "149                5.9               3.0                5.1               1.8"
      ]
     },
     "execution_count": 42,
     "metadata": {},
     "output_type": "execute_result"
    }
   ],
   "source": [
    "from sklearn import datasets\n",
    "\n",
    "iris = datasets.load_iris()\n",
    "data = iris.data\n",
    "feature_names = iris.feature_names\n",
    "\n",
    "data = pd.DataFrame(data,columns=feature_names)\n",
    "data.head(5)\n",
    "data.tail(5)"
   ]
  },
  {
   "cell_type": "markdown",
   "metadata": {},
   "source": [
    "### Let's learn a little more about this data"
   ]
  },
  {
   "cell_type": "code",
   "execution_count": 43,
   "metadata": {},
   "outputs": [
    {
     "data": {
      "text/html": [
       "<div>\n",
       "<style scoped>\n",
       "    .dataframe tbody tr th:only-of-type {\n",
       "        vertical-align: middle;\n",
       "    }\n",
       "\n",
       "    .dataframe tbody tr th {\n",
       "        vertical-align: top;\n",
       "    }\n",
       "\n",
       "    .dataframe thead th {\n",
       "        text-align: right;\n",
       "    }\n",
       "</style>\n",
       "<table border=\"1\" class=\"dataframe\">\n",
       "  <thead>\n",
       "    <tr style=\"text-align: right;\">\n",
       "      <th></th>\n",
       "      <th>sepal length (cm)</th>\n",
       "      <th>sepal width (cm)</th>\n",
       "      <th>petal length (cm)</th>\n",
       "      <th>petal width (cm)</th>\n",
       "    </tr>\n",
       "  </thead>\n",
       "  <tbody>\n",
       "    <tr>\n",
       "      <th>count</th>\n",
       "      <td>150.000000</td>\n",
       "      <td>150.000000</td>\n",
       "      <td>150.000000</td>\n",
       "      <td>150.000000</td>\n",
       "    </tr>\n",
       "    <tr>\n",
       "      <th>mean</th>\n",
       "      <td>5.843333</td>\n",
       "      <td>3.057333</td>\n",
       "      <td>3.758000</td>\n",
       "      <td>1.199333</td>\n",
       "    </tr>\n",
       "    <tr>\n",
       "      <th>std</th>\n",
       "      <td>0.828066</td>\n",
       "      <td>0.435866</td>\n",
       "      <td>1.765298</td>\n",
       "      <td>0.762238</td>\n",
       "    </tr>\n",
       "    <tr>\n",
       "      <th>min</th>\n",
       "      <td>4.300000</td>\n",
       "      <td>2.000000</td>\n",
       "      <td>1.000000</td>\n",
       "      <td>0.100000</td>\n",
       "    </tr>\n",
       "    <tr>\n",
       "      <th>25%</th>\n",
       "      <td>5.100000</td>\n",
       "      <td>2.800000</td>\n",
       "      <td>1.600000</td>\n",
       "      <td>0.300000</td>\n",
       "    </tr>\n",
       "    <tr>\n",
       "      <th>50%</th>\n",
       "      <td>5.800000</td>\n",
       "      <td>3.000000</td>\n",
       "      <td>4.350000</td>\n",
       "      <td>1.300000</td>\n",
       "    </tr>\n",
       "    <tr>\n",
       "      <th>75%</th>\n",
       "      <td>6.400000</td>\n",
       "      <td>3.300000</td>\n",
       "      <td>5.100000</td>\n",
       "      <td>1.800000</td>\n",
       "    </tr>\n",
       "    <tr>\n",
       "      <th>max</th>\n",
       "      <td>7.900000</td>\n",
       "      <td>4.400000</td>\n",
       "      <td>6.900000</td>\n",
       "      <td>2.500000</td>\n",
       "    </tr>\n",
       "  </tbody>\n",
       "</table>\n",
       "</div>"
      ],
      "text/plain": [
       "       sepal length (cm)  sepal width (cm)  petal length (cm)  \\\n",
       "count         150.000000        150.000000         150.000000   \n",
       "mean            5.843333          3.057333           3.758000   \n",
       "std             0.828066          0.435866           1.765298   \n",
       "min             4.300000          2.000000           1.000000   \n",
       "25%             5.100000          2.800000           1.600000   \n",
       "50%             5.800000          3.000000           4.350000   \n",
       "75%             6.400000          3.300000           5.100000   \n",
       "max             7.900000          4.400000           6.900000   \n",
       "\n",
       "       petal width (cm)  \n",
       "count        150.000000  \n",
       "mean           1.199333  \n",
       "std            0.762238  \n",
       "min            0.100000  \n",
       "25%            0.300000  \n",
       "50%            1.300000  \n",
       "75%            1.800000  \n",
       "max            2.500000  "
      ]
     },
     "execution_count": 43,
     "metadata": {},
     "output_type": "execute_result"
    }
   ],
   "source": [
    "#This will give quick summary statistics about our columns\n",
    "data.describe()"
   ]
  },
  {
   "cell_type": "markdown",
   "metadata": {},
   "source": [
    "### Let's work on selecting data out of these 150 points"
   ]
  },
  {
   "cell_type": "code",
   "execution_count": 44,
   "metadata": {},
   "outputs": [
    {
     "name": "stdout",
     "output_type": "stream",
     "text": [
      "   sepal length (cm)  sepal width (cm)  petal length (cm)  petal width (cm)\n",
      "0                5.1               3.5                1.4               0.2\n",
      "\n",
      "    sepal length (cm)  sepal width (cm)  petal length (cm)  petal width (cm)\n",
      "0                5.1               3.5                1.4               0.2\n",
      "1                4.9               3.0                1.4               0.2\n",
      "2                4.7               3.2                1.3               0.2\n",
      "3                4.6               3.1                1.5               0.2\n",
      "4                5.0               3.6                1.4               0.2\n",
      "\n",
      " All Rows: 150\n",
      "\n",
      " Every Other Row: 75\n"
     ]
    }
   ],
   "source": [
    "#Grabbing a row. Syntax: 'From:To(:Step)' Steps optional, with empty values being non-limited\n",
    "row = data[:1]\n",
    "print(row)\n",
    "\n",
    "rows = data[0:5]\n",
    "print(\"\\n\",rows)\n",
    "\n",
    "all_rows = data[0:]\n",
    "print(\"\\n All Rows:\",len(all_rows))\n",
    "\n",
    "half_rows = data[0::2]\n",
    "print(\"\\n Every Other Row:\",len(half_rows))"
   ]
  },
  {
   "cell_type": "code",
   "execution_count": 46,
   "metadata": {},
   "outputs": [
    {
     "name": "stdout",
     "output_type": "stream",
     "text": [
      "     sepal length (cm)  sepal width (cm)  petal length (cm)  petal width (cm)\n",
      "149                5.9               3.0                5.1               1.8\n",
      "148                6.2               3.4                5.4               2.3\n",
      "147                6.5               3.0                5.2               2.0\n",
      "146                6.3               2.5                5.0               1.9\n",
      "145                6.7               3.0                5.2               2.3\n",
      "     sepal length (cm)  sepal width (cm)  petal length (cm)  petal width (cm)\n",
      "145                6.7               3.0                5.2               2.3\n",
      "146                6.3               2.5                5.0               1.9\n",
      "147                6.5               3.0                5.2               2.0\n",
      "148                6.2               3.4                5.4               2.3\n",
      "149                5.9               3.0                5.1               1.8\n",
      "   petal width (cm)  petal length (cm)  sepal width (cm)  sepal length (cm)\n",
      "0               0.2                1.4               3.5                5.1\n",
      "1               0.2                1.4               3.0                4.9\n",
      "2               0.2                1.3               3.2                4.7\n",
      "3               0.2                1.5               3.1                4.6\n",
      "4               0.2                1.4               3.6                5.0\n"
     ]
    }
   ],
   "source": [
    "#More complicated operations can also be performed\n",
    "reverse_rows = data[::-1]\n",
    "reverse_columns = data[data.columns[::-1]]\n",
    "print(reverse_rows.head(5))\n",
    "print(all_rows.tail(5))\n",
    "print(reverse_columns.head(5))"
   ]
  },
  {
   "cell_type": "markdown",
   "metadata": {},
   "source": [
    "### Data can also be treated more generally by using loc and iloc methods.\n",
    "### First, in a Series"
   ]
  },
  {
   "cell_type": "code",
   "execution_count": 47,
   "metadata": {},
   "outputs": [
    {
     "name": "stdout",
     "output_type": "stream",
     "text": [
      "A    0.25\n",
      "B    0.50\n",
      "C    0.75\n",
      "D    1.00\n",
      "dtype: float64\n",
      "0.25\n",
      "0.5\n"
     ]
    }
   ],
   "source": [
    "#Explicit Indexing\n",
    "a = pd.Series([0.25, 0.5, 0.75, 1.0],\n",
    "            index=['A', 'B', 'C', 'D'])\n",
    "print(a)\n",
    "print(a['A'])\n",
    "print(a.loc['B'])"
   ]
  },
  {
   "cell_type": "code",
   "execution_count": 48,
   "metadata": {},
   "outputs": [
    {
     "name": "stdout",
     "output_type": "stream",
     "text": [
      "0    0.25\n",
      "1    0.50\n",
      "2    0.75\n",
      "3    1.00\n",
      "dtype: float64\n",
      "0.25\n",
      "0.5\n"
     ]
    }
   ],
   "source": [
    "#Implicit Indexing\n",
    "a = pd.Series([0.25, 0.5, 0.75, 1.0])\n",
    "print(a)\n",
    "print(a[0])\n",
    "print(a.iloc[1])"
   ]
  },
  {
   "cell_type": "markdown",
   "metadata": {},
   "source": [
    "### Now in a DataFrame"
   ]
  },
  {
   "cell_type": "code",
   "execution_count": 50,
   "metadata": {},
   "outputs": [
    {
     "name": "stdout",
     "output_type": "stream",
     "text": [
      "    0\n",
      "1   6\n",
      "3   1\n",
      "5   5\n",
      "9   6\n",
      "11  2\n",
      "13  1\n",
      "15  8\n",
      "17  3\n",
      "19  5\n",
      "21  0\n",
      "Explicit\n",
      "    0\n",
      "1  6\n",
      "3  1\n",
      "5  5\n",
      "\n",
      "Implicit\n",
      "     0\n",
      "1   6\n",
      "3   1\n",
      "5   5\n",
      "9   6\n",
      "11  2\n"
     ]
    }
   ],
   "source": [
    "#Choosing Data using loc, using the same Syntax as above.\n",
    "a = pd.DataFrame(np.random.randint(10, size=10),\n",
    "                index=[1,3,5,9,11,13,15,17,19,21])\n",
    "\n",
    "print(a)\n",
    "\n",
    "#Using Explicit Index\n",
    "print(\"Explicit\\n\",a.loc[:5])\n",
    "\n",
    "#Using Implicit Index\n",
    "print(\"\\nImplicit\\n\",a.iloc[:5])"
   ]
  },
  {
   "cell_type": "markdown",
   "metadata": {},
   "source": [
    "### How about selecting data in higher dimensions?"
   ]
  },
  {
   "cell_type": "code",
   "execution_count": 51,
   "metadata": {},
   "outputs": [
    {
     "name": "stdout",
     "output_type": "stream",
     "text": [
      "First five rows:\n",
      "    sepal length (cm)  sepal width (cm)  petal length (cm)  petal width (cm)\n",
      "0                5.1               3.5                1.4               0.2\n",
      "1                4.9               3.0                1.4               0.2\n",
      "2                4.7               3.2                1.3               0.2\n",
      "3                4.6               3.1                1.5               0.2\n",
      "4                5.0               3.6                1.4               0.2 \n",
      "\n",
      "First five rows, first two columns:\n",
      "    sepal length (cm)  sepal width (cm)\n",
      "0                5.1               3.5\n",
      "1                4.9               3.0\n",
      "2                4.7               3.2\n",
      "3                4.6               3.1\n",
      "4                5.0               3.6\n"
     ]
    }
   ],
   "source": [
    "#For the Iris data\n",
    "rows = data.iloc[:5]\n",
    "print('First five rows:\\n',rows,'\\n')\n",
    "\n",
    "col_rows = data.iloc[:5,:2]\n",
    "print('First five rows, first two columns:\\n',col_rows)"
   ]
  },
  {
   "cell_type": "code",
   "execution_count": 52,
   "metadata": {},
   "outputs": [
    {
     "name": "stdout",
     "output_type": "stream",
     "text": [
      "Second row, second column:\n",
      " 1.3\n"
     ]
    }
   ],
   "source": [
    "#Getting Exact Cells\n",
    "cell = data.iloc[2,2]\n",
    "print('Second row, second column:\\n',cell)"
   ]
  },
  {
   "cell_type": "markdown",
   "metadata": {},
   "source": [
    "### So how can you change this data?\n",
    "#### Numpy"
   ]
  },
  {
   "cell_type": "code",
   "execution_count": 56,
   "metadata": {},
   "outputs": [
    {
     "name": "stdout",
     "output_type": "stream",
     "text": [
      "[[ 9  2  3]\n",
      " [11  3 19]\n",
      " [ 6  9 14]\n",
      " [ 6 19  6]]\n"
     ]
    }
   ],
   "source": [
    "#Numpy\n",
    "a = np.random.randint(20, size=(4,3))\n",
    "print(a)"
   ]
  },
  {
   "cell_type": "code",
   "execution_count": 57,
   "metadata": {},
   "outputs": [
    {
     "name": "stdout",
     "output_type": "stream",
     "text": [
      "[[ 2  2  3]\n",
      " [11  3 19]\n",
      " [ 6  9 14]\n",
      " [ 6 19  6]]\n"
     ]
    }
   ],
   "source": [
    "#Numpy links back to the original when you subset your data - this will change the original\n",
    "a_part = a[:2,:2]\n",
    "a_part[0,0] = 2\n",
    "print(a)"
   ]
  },
  {
   "cell_type": "markdown",
   "metadata": {},
   "source": [
    "#### Pandas"
   ]
  },
  {
   "cell_type": "code",
   "execution_count": 58,
   "metadata": {},
   "outputs": [
    {
     "name": "stdout",
     "output_type": "stream",
     "text": [
      "    0   1   2\n",
      "0   2   2   3\n",
      "1  11   3  19\n",
      "2   6   9  14\n",
      "3   6  19   6\n"
     ]
    }
   ],
   "source": [
    "#Pandas does not. This simply creates a new view of the data, a copy that will not change the original\n",
    "a = pd.DataFrame(a)\n",
    "a_part = a.iloc[:2,:2]\n",
    "a_part[0,0] = 4\n",
    "print(a)"
   ]
  },
  {
   "cell_type": "code",
   "execution_count": 59,
   "metadata": {},
   "outputs": [
    {
     "name": "stdout",
     "output_type": "stream",
     "text": [
      "    0   1   2\n",
      "0   4   2   3\n",
      "1  11   3  19\n",
      "2   6   9  14\n",
      "3   6  19   6\n"
     ]
    }
   ],
   "source": [
    "#But you can still explicitly go about changing these values by avoiding subsetting the data\n",
    "a.iloc[0,0] = 4\n",
    "print(a)"
   ]
  },
  {
   "cell_type": "markdown",
   "metadata": {},
   "source": [
    "### How then can you check the shape of your data to help locate points?"
   ]
  },
  {
   "cell_type": "code",
   "execution_count": 60,
   "metadata": {},
   "outputs": [
    {
     "name": "stdout",
     "output_type": "stream",
     "text": [
      "Iris Dimensions:  2 \n",
      "\n",
      "Iris Shape:  (150, 4) \n",
      "\n",
      "Iris Size:  600 \n",
      "\n",
      "Iris Types:\n",
      " sepal length (cm)    float64\n",
      "sepal width (cm)     float64\n",
      "petal length (cm)    float64\n",
      "petal width (cm)     float64\n",
      "dtype: object\n"
     ]
    }
   ],
   "source": [
    "#Number of dimensions\n",
    "print(\"Iris Dimensions: \", data.ndim,\"\\n\")\n",
    "\n",
    "#(Rows,Columns)\n",
    "print(\"Iris Shape: \", data.shape,\"\\n\")\n",
    "\n",
    "#Number of Elements\n",
    "print(\"Iris Size: \", data.size,\"\\n\")\n",
    "\n",
    "#Data Types\n",
    "print(\"Iris Types:\\n\", data.dtypes)"
   ]
  },
  {
   "cell_type": "markdown",
   "metadata": {},
   "source": [
    "### Lastly, you can manipulate your data by adding Boolean restrictions."
   ]
  },
  {
   "cell_type": "markdown",
   "metadata": {},
   "source": [
    "#### Say you want to know how many of the petals are above average for length."
   ]
  },
  {
   "cell_type": "code",
   "execution_count": 63,
   "metadata": {},
   "outputs": [
    {
     "name": "stdout",
     "output_type": "stream",
     "text": [
      "petal length (cm)    1.4\n",
      "Name: 0, dtype: float64\n"
     ]
    }
   ],
   "source": [
    "#Start by grabbing out the data\n",
    "lengths = pd.DataFrame(data.iloc[:,2])\n",
    "lengths.head(5)\n",
    "print(lengths.iloc[0])"
   ]
  },
  {
   "cell_type": "code",
   "execution_count": 64,
   "metadata": {},
   "outputs": [
    {
     "data": {
      "text/plain": [
       "93"
      ]
     },
     "execution_count": 64,
     "metadata": {},
     "output_type": "execute_result"
    }
   ],
   "source": [
    "#Instead of:\n",
    "above = 0\n",
    "mean = float(lengths.mean(0))\n",
    "for i in range(len(lengths)):\n",
    "    if float(lengths.iloc[i]) > mean:\n",
    "        above += 1\n",
    "above"
   ]
  },
  {
   "cell_type": "code",
   "execution_count": 83,
   "metadata": {},
   "outputs": [
    {
     "data": {
      "text/plain": [
       "93"
      ]
     },
     "execution_count": 83,
     "metadata": {},
     "output_type": "execute_result"
    }
   ],
   "source": [
    "#You can:\n",
    "data[data['petal length (cm)'] > data['petal length (cm)'].mean()].shape[0]"
   ]
  },
  {
   "cell_type": "code",
   "execution_count": 74,
   "metadata": {},
   "outputs": [
    {
     "data": {
      "text/plain": [
       "49"
      ]
     },
     "execution_count": 74,
     "metadata": {},
     "output_type": "execute_result"
    }
   ],
   "source": [
    "#And then you can add more restrictions:\n",
    "data[(data['petal length (cm)'] > 1) & (data['petal length (cm)'] < 2)].shape[0]"
   ]
  },
  {
   "cell_type": "markdown",
   "metadata": {},
   "source": [
    "## Some Practice:\n",
    "### Tell me how many observations have above average petal length and width."
   ]
  },
  {
   "cell_type": "code",
   "execution_count": null,
   "metadata": {},
   "outputs": [],
   "source": []
  },
  {
   "cell_type": "markdown",
   "metadata": {},
   "source": [
    "### Tell me what the average petal length is for those observations with petal width above average."
   ]
  },
  {
   "cell_type": "code",
   "execution_count": null,
   "metadata": {},
   "outputs": [],
   "source": []
  }
 ],
 "metadata": {
  "kernelspec": {
   "display_name": "Python 3",
   "language": "python",
   "name": "python3"
  },
  "language_info": {
   "codemirror_mode": {
    "name": "ipython",
    "version": 3
   },
   "file_extension": ".py",
   "mimetype": "text/x-python",
   "name": "python",
   "nbconvert_exporter": "python",
   "pygments_lexer": "ipython3",
   "version": "3.7.3"
  }
 },
 "nbformat": 4,
 "nbformat_minor": 2
}
