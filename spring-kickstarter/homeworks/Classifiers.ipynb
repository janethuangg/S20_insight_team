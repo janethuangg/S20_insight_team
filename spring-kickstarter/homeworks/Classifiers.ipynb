{
 "cells": [
  {
   "cell_type": "markdown",
   "metadata": {},
   "source": [
    "import stuff (a lot of stuff) & read in data"
   ]
  },
  {
   "cell_type": "code",
   "execution_count": 1,
   "metadata": {},
   "outputs": [
    {
     "name": "stderr",
     "output_type": "stream",
     "text": [
      "/Users/Jesse/anaconda3/lib/python3.7/site-packages/statsmodels/tools/_testing.py:19: FutureWarning: pandas.util.testing is deprecated. Use the functions in the public API at pandas.testing instead.\n",
      "  import pandas.util.testing as tm\n"
     ]
    }
   ],
   "source": [
    "import pandas as pd\n",
    "import numpy as np\n",
    "import category_encoders as ce\n",
    "import datetime as dt\n",
    "pd.options.mode.chained_assignment = None\n",
    "from sklearn.pipeline import Pipeline\n",
    "from sklearn.model_selection import train_test_split\n",
    "pd.options.display.max_rows = 1000\n",
    "pd.options.display.max_columns= 1000\n",
    "from sklearn.linear_model import LinearRegression,LogisticRegression\n",
    "from sklearn import metrics\n",
    "from sklearn.metrics import confusion_matrix, roc_curve, roc_auc_score\n",
    "\n",
    "import scipy.stats as stats\n",
    "from sklearn.tree import DecisionTreeRegressor,DecisionTreeClassifier\n",
    "from sklearn.ensemble import RandomForestRegressor,RandomForestClassifier\n",
    "from sklearn.compose import ColumnTransformer\n",
    "from sklearn.preprocessing import StandardScaler\n",
    "from sklearn.neural_network import MLPRegressor,MLPClassifier\n",
    "from sklearn.model_selection import cross_validate\n",
    "from sklearn.model_selection import cross_val_score\n",
    "from sklearn.model_selection import GridSearchCV\n",
    "\n",
    "import seaborn as sns"
   ]
  },
  {
   "cell_type": "code",
   "execution_count": 2,
   "metadata": {},
   "outputs": [],
   "source": [
    "data = pd.read_csv('../datasets/ks-projects-201801.csv')"
   ]
  },
  {
   "cell_type": "code",
   "execution_count": 3,
   "metadata": {},
   "outputs": [],
   "source": [
    "df = data.copy()"
   ]
  },
  {
   "cell_type": "markdown",
   "metadata": {},
   "source": [
    "# data cleaning / transforming"
   ]
  },
  {
   "cell_type": "code",
   "execution_count": 4,
   "metadata": {},
   "outputs": [],
   "source": [
    "df['titleLength'] = df['name'].apply(lambda x: len(str(x)))"
   ]
  },
  {
   "cell_type": "code",
   "execution_count": 5,
   "metadata": {},
   "outputs": [],
   "source": [
    "df.drop(columns=['category','backers','ID','name','pledged','usd pledged','goal'], inplace=True)"
   ]
  },
  {
   "cell_type": "code",
   "execution_count": 6,
   "metadata": {},
   "outputs": [],
   "source": [
    "df['launched'] = pd.to_datetime(df['launched'])\n",
    "df['deadline'] = pd.to_datetime(df['deadline'])\n",
    "df = df[df['launched']>'2000-01-01']"
   ]
  },
  {
   "cell_type": "code",
   "execution_count": 7,
   "metadata": {},
   "outputs": [],
   "source": [
    "df = df[(df['usd_goal_real']<20000) & (df['usd_goal_real']>1)]\n",
    "df = df[(df['usd_pledged_real']<20000) & (df['usd_pledged_real']>1)]\n",
    "\n",
    "df['logGoal'] = np.log(df['usd_goal_real'])\n",
    "df.drop(columns=['usd_goal_real'], inplace=True)"
   ]
  },
  {
   "cell_type": "code",
   "execution_count": 8,
   "metadata": {},
   "outputs": [],
   "source": [
    "df['launchMonth'] = df['launched'].dt.month\n",
    "df['launchDay'] = df['launched'].dt.dayofweek\n",
    "df['launchHour'] = df['launched'].dt.hour"
   ]
  },
  {
   "cell_type": "code",
   "execution_count": 9,
   "metadata": {},
   "outputs": [],
   "source": [
    "df['duration'] = (df['deadline']-df['launched'])/dt.timedelta(minutes=1)\n",
    "df.drop(columns=['deadline','launched'],inplace=True)"
   ]
  },
  {
   "cell_type": "code",
   "execution_count": 10,
   "metadata": {},
   "outputs": [],
   "source": [
    "df = df[(df['state']=='successful') | (df['state']=='failed')]"
   ]
  },
  {
   "cell_type": "code",
   "execution_count": 11,
   "metadata": {},
   "outputs": [
    {
     "data": {
      "text/plain": [
       "['successful', 'failed']"
      ]
     },
     "execution_count": 11,
     "metadata": {},
     "output_type": "execute_result"
    }
   ],
   "source": [
    "list(df.state.unique())"
   ]
  },
  {
   "cell_type": "code",
   "execution_count": 12,
   "metadata": {
    "scrolled": false
   },
   "outputs": [
    {
     "data": {
      "image/png": "[encoded data removed]",
      "text/plain": [
       "<Figure size 432x288 with 1 Axes>"
      ]
     },
     "metadata": {},
     "output_type": "display_data"
    }
   ],
   "source": [
    "import matplotlib.pyplot as plt\n",
    "\n",
    "slices = list(df.state.value_counts())\n",
    "states = list(df.state.unique())\n",
    "plt.pie(slices, labels=states,autopct='%.1f%%')\n",
    "plt.show()"
   ]
  },
  {
   "cell_type": "markdown",
   "metadata": {},
   "source": [
    "null accuracy: 50.1%"
   ]
  },
  {
   "cell_type": "code",
   "execution_count": 13,
   "metadata": {},
   "outputs": [],
   "source": [
    "df['success'] = df['state'].apply(lambda x: 1 if x == \"successful\" else 0)\n",
    "X = df.drop(columns=['state','success','usd_pledged_real'])\n",
    "y = df['success']"
   ]
  },
  {
   "cell_type": "code",
   "execution_count": 14,
   "metadata": {},
   "outputs": [],
   "source": [
    "X_train, X_test, y_train, y_test = train_test_split(X, y, test_size = 0.2)"
   ]
  },
  {
   "cell_type": "code",
   "execution_count": 15,
   "metadata": {},
   "outputs": [],
   "source": [
    "numeric_features = X.select_dtypes(include=['int64', 'float64']).drop(['launchMonth','launchDay','launchHour'],axis=1).columns\n",
    "categorical_features = list(X.select_dtypes(include=['object']).columns) + ['launchMonth','launchDay','launchHour']\n",
    "\n",
    "from sklearn.compose import ColumnTransformer\n",
    "\n",
    "preprocessor = ColumnTransformer(\n",
    "    transformers=[\n",
    "        ('num', StandardScaler(), numeric_features),\n",
    "        ('cat', ce.OneHotEncoder(), categorical_features)])"
   ]
  },
  {
   "cell_type": "code",
   "execution_count": 39,
   "metadata": {},
   "outputs": [
    {
     "name": "stderr",
     "output_type": "stream",
     "text": [
      "/Users/Jesse/anaconda3/lib/python3.7/site-packages/sklearn/linear_model/logistic.py:432: FutureWarning: Default solver will be changed to 'lbfgs' in 0.22. Specify a solver to silence this warning.\n",
      "  FutureWarning)\n"
     ]
    },
    {
     "name": "stdout",
     "output_type": "stream",
     "text": [
      "LogisticRegression(C=1.0, class_weight=None, dual=False, fit_intercept=True,\n",
      "                   intercept_scaling=1, l1_ratio=None, max_iter=100,\n",
      "                   multi_class='warn', n_jobs=None, penalty='l2',\n",
      "                   random_state=None, solver='warn', tol=0.0001, verbose=0,\n",
      "                   warm_start=False)\n",
      "model score: 0.639\n",
      "DecisionTreeClassifier(class_weight=None, criterion='gini', max_depth=None,\n",
      "                       max_features=None, max_leaf_nodes=None,\n",
      "                       min_impurity_decrease=0.0, min_impurity_split=None,\n",
      "                       min_samples_leaf=1, min_samples_split=2,\n",
      "                       min_weight_fraction_leaf=0.0, presort=False,\n",
      "                       random_state=None, splitter='best')\n",
      "model score: 0.565\n"
     ]
    },
    {
     "name": "stderr",
     "output_type": "stream",
     "text": [
      "/Users/Jesse/anaconda3/lib/python3.7/site-packages/sklearn/ensemble/forest.py:245: FutureWarning: The default value of n_estimators will change from 10 in version 0.20 to 100 in 0.22.\n",
      "  \"10 in version 0.20 to 100 in 0.22.\", FutureWarning)\n"
     ]
    },
    {
     "name": "stdout",
     "output_type": "stream",
     "text": [
      "RandomForestClassifier(bootstrap=True, class_weight=None, criterion='gini',\n",
      "                       max_depth=None, max_features='auto', max_leaf_nodes=None,\n",
      "                       min_impurity_decrease=0.0, min_impurity_split=None,\n",
      "                       min_samples_leaf=1, min_samples_split=2,\n",
      "                       min_weight_fraction_leaf=0.0, n_estimators=10,\n",
      "                       n_jobs=None, oob_score=False, random_state=None,\n",
      "                       verbose=0, warm_start=False)\n",
      "model score: 0.602\n",
      "MLPClassifier(activation='relu', alpha=0.0001, batch_size='auto', beta_1=0.9,\n",
      "              beta_2=0.999, early_stopping=False, epsilon=1e-08,\n",
      "              hidden_layer_sizes=(100,), learning_rate='constant',\n",
      "              learning_rate_init=0.001, max_iter=200, momentum=0.9,\n",
      "              n_iter_no_change=10, nesterovs_momentum=True, power_t=0.5,\n",
      "              random_state=None, shuffle=True, solver='adam', tol=0.0001,\n",
      "              validation_fraction=0.1, verbose=False, warm_start=False)\n",
      "model score: 0.641\n"
     ]
    }
   ],
   "source": [
    "classifiers = [\n",
    "        LogisticRegression(),\n",
    "        DecisionTreeClassifier(),\n",
    "        RandomForestClassifier(),\n",
    "        MLPClassifier()\n",
    "    ]\n",
    "\n",
    "for classifier in classifiers:\n",
    "    pipe = Pipeline(steps=[('preprocessor', preprocessor),\n",
    "                      ('classifier', classifier)])\n",
    "    pipe.fit(X_train, y_train)   \n",
    "    print(classifier)\n",
    "    print(\"model score: %.3f\" % pipe.score(X_test, y_test))"
   ]
  },
  {
   "cell_type": "code",
   "execution_count": 40,
   "metadata": {
    "scrolled": false
   },
   "outputs": [
    {
     "name": "stderr",
     "output_type": "stream",
     "text": [
      "/Users/Jesse/anaconda3/lib/python3.7/site-packages/sklearn/model_selection/_split.py:1978: FutureWarning: The default value of cv will change from 3 to 5 in version 0.22. Specify it explicitly to silence this warning.\n",
      "  warnings.warn(CV_WARNING, FutureWarning)\n",
      "[Parallel(n_jobs=1)]: Using backend SequentialBackend with 1 concurrent workers.\n"
     ]
    },
    {
     "name": "stdout",
     "output_type": "stream",
     "text": [
      "Fitting 3 folds for each of 18 candidates, totalling 54 fits\n",
      "[CV] classifier__max_depth=5, classifier__min_samples_leaf=10, classifier__n_estimators=10 \n",
      "[CV]  classifier__max_depth=5, classifier__min_samples_leaf=10, classifier__n_estimators=10, total=   3.0s\n",
      "[CV] classifier__max_depth=5, classifier__min_samples_leaf=10, classifier__n_estimators=10 \n"
     ]
    },
    {
     "name": "stderr",
     "output_type": "stream",
     "text": [
      "[Parallel(n_jobs=1)]: Done   1 out of   1 | elapsed:    3.0s remaining:    0.0s\n"
     ]
    },
    {
     "name": "stdout",
     "output_type": "stream",
     "text": [
      "[CV]  classifier__max_depth=5, classifier__min_samples_leaf=10, classifier__n_estimators=10, total=   2.5s\n",
      "[CV] classifier__max_depth=5, classifier__min_samples_leaf=10, classifier__n_estimators=10 \n",
      "[CV]  classifier__max_depth=5, classifier__min_samples_leaf=10, classifier__n_estimators=10, total=   6.8s\n",
      "[CV] classifier__max_depth=5, classifier__min_samples_leaf=10, classifier__n_estimators=20 \n",
      "[CV]  classifier__max_depth=5, classifier__min_samples_leaf=10, classifier__n_estimators=20, total=   4.5s\n",
      "[CV] classifier__max_depth=5, classifier__min_samples_leaf=10, classifier__n_estimators=20 \n",
      "[CV]  classifier__max_depth=5, classifier__min_samples_leaf=10, classifier__n_estimators=20, total=   6.4s\n",
      "[CV] classifier__max_depth=5, classifier__min_samples_leaf=10, classifier__n_estimators=20 \n",
      "[CV]  classifier__max_depth=5, classifier__min_samples_leaf=10, classifier__n_estimators=20, total=   4.0s\n",
      "[CV] classifier__max_depth=5, classifier__min_samples_leaf=50, classifier__n_estimators=10 \n",
      "[CV]  classifier__max_depth=5, classifier__min_samples_leaf=50, classifier__n_estimators=10, total=   4.0s\n",
      "[CV] classifier__max_depth=5, classifier__min_samples_leaf=50, classifier__n_estimators=10 \n",
      "[CV]  classifier__max_depth=5, classifier__min_samples_leaf=50, classifier__n_estimators=10, total=   3.0s\n",
      "[CV] classifier__max_depth=5, classifier__min_samples_leaf=50, classifier__n_estimators=10 \n",
      "[CV]  classifier__max_depth=5, classifier__min_samples_leaf=50, classifier__n_estimators=10, total=   2.7s\n",
      "[CV] classifier__max_depth=5, classifier__min_samples_leaf=50, classifier__n_estimators=20 \n",
      "[CV]  classifier__max_depth=5, classifier__min_samples_leaf=50, classifier__n_estimators=20, total=   3.2s\n",
      "[CV] classifier__max_depth=5, classifier__min_samples_leaf=50, classifier__n_estimators=20 \n",
      "[CV]  classifier__max_depth=5, classifier__min_samples_leaf=50, classifier__n_estimators=20, total=   3.1s\n",
      "[CV] classifier__max_depth=5, classifier__min_samples_leaf=50, classifier__n_estimators=20 \n",
      "[CV]  classifier__max_depth=5, classifier__min_samples_leaf=50, classifier__n_estimators=20, total=   3.5s\n",
      "[CV] classifier__max_depth=5, classifier__min_samples_leaf=100, classifier__n_estimators=10 \n",
      "[CV]  classifier__max_depth=5, classifier__min_samples_leaf=100, classifier__n_estimators=10, total=   2.1s\n",
      "[CV] classifier__max_depth=5, classifier__min_samples_leaf=100, classifier__n_estimators=10 \n",
      "[CV]  classifier__max_depth=5, classifier__min_samples_leaf=100, classifier__n_estimators=10, total=   2.1s\n",
      "[CV] classifier__max_depth=5, classifier__min_samples_leaf=100, classifier__n_estimators=10 \n",
      "[CV]  classifier__max_depth=5, classifier__min_samples_leaf=100, classifier__n_estimators=10, total=   4.6s\n",
      "[CV] classifier__max_depth=5, classifier__min_samples_leaf=100, classifier__n_estimators=20 \n",
      "[CV]  classifier__max_depth=5, classifier__min_samples_leaf=100, classifier__n_estimators=20, total=   4.7s\n",
      "[CV] classifier__max_depth=5, classifier__min_samples_leaf=100, classifier__n_estimators=20 \n",
      "[CV]  classifier__max_depth=5, classifier__min_samples_leaf=100, classifier__n_estimators=20, total=   6.6s\n",
      "[CV] classifier__max_depth=5, classifier__min_samples_leaf=100, classifier__n_estimators=20 \n",
      "[CV]  classifier__max_depth=5, classifier__min_samples_leaf=100, classifier__n_estimators=20, total=   7.5s\n",
      "[CV] classifier__max_depth=10, classifier__min_samples_leaf=10, classifier__n_estimators=10 \n",
      "[CV]  classifier__max_depth=10, classifier__min_samples_leaf=10, classifier__n_estimators=10, total=   4.0s\n",
      "[CV] classifier__max_depth=10, classifier__min_samples_leaf=10, classifier__n_estimators=10 \n",
      "[CV]  classifier__max_depth=10, classifier__min_samples_leaf=10, classifier__n_estimators=10, total=   2.8s\n",
      "[CV] classifier__max_depth=10, classifier__min_samples_leaf=10, classifier__n_estimators=10 \n",
      "[CV]  classifier__max_depth=10, classifier__min_samples_leaf=10, classifier__n_estimators=10, total=   3.4s\n",
      "[CV] classifier__max_depth=10, classifier__min_samples_leaf=10, classifier__n_estimators=20 \n",
      "[CV]  classifier__max_depth=10, classifier__min_samples_leaf=10, classifier__n_estimators=20, total=   6.2s\n",
      "[CV] classifier__max_depth=10, classifier__min_samples_leaf=10, classifier__n_estimators=20 \n",
      "[CV]  classifier__max_depth=10, classifier__min_samples_leaf=10, classifier__n_estimators=20, total=   5.1s\n",
      "[CV] classifier__max_depth=10, classifier__min_samples_leaf=10, classifier__n_estimators=20 \n",
      "[CV]  classifier__max_depth=10, classifier__min_samples_leaf=10, classifier__n_estimators=20, total=   4.8s\n",
      "[CV] classifier__max_depth=10, classifier__min_samples_leaf=50, classifier__n_estimators=10 \n",
      "[CV]  classifier__max_depth=10, classifier__min_samples_leaf=50, classifier__n_estimators=10, total=   3.1s\n",
      "[CV] classifier__max_depth=10, classifier__min_samples_leaf=50, classifier__n_estimators=10 \n",
      "[CV]  classifier__max_depth=10, classifier__min_samples_leaf=50, classifier__n_estimators=10, total=   2.9s\n",
      "[CV] classifier__max_depth=10, classifier__min_samples_leaf=50, classifier__n_estimators=10 \n",
      "[CV]  classifier__max_depth=10, classifier__min_samples_leaf=50, classifier__n_estimators=10, total=   3.7s\n",
      "[CV] classifier__max_depth=10, classifier__min_samples_leaf=50, classifier__n_estimators=20 \n",
      "[CV]  classifier__max_depth=10, classifier__min_samples_leaf=50, classifier__n_estimators=20, total=   5.1s\n",
      "[CV] classifier__max_depth=10, classifier__min_samples_leaf=50, classifier__n_estimators=20 \n",
      "[CV]  classifier__max_depth=10, classifier__min_samples_leaf=50, classifier__n_estimators=20, total=   9.0s\n",
      "[CV] classifier__max_depth=10, classifier__min_samples_leaf=50, classifier__n_estimators=20 \n",
      "[CV]  classifier__max_depth=10, classifier__min_samples_leaf=50, classifier__n_estimators=20, total=   5.7s\n",
      "[CV] classifier__max_depth=10, classifier__min_samples_leaf=100, classifier__n_estimators=10 \n",
      "[CV]  classifier__max_depth=10, classifier__min_samples_leaf=100, classifier__n_estimators=10, total=   4.4s\n",
      "[CV] classifier__max_depth=10, classifier__min_samples_leaf=100, classifier__n_estimators=10 \n",
      "[CV]  classifier__max_depth=10, classifier__min_samples_leaf=100, classifier__n_estimators=10, total=   5.4s\n",
      "[CV] classifier__max_depth=10, classifier__min_samples_leaf=100, classifier__n_estimators=10 \n",
      "[CV]  classifier__max_depth=10, classifier__min_samples_leaf=100, classifier__n_estimators=10, total=   4.4s\n",
      "[CV] classifier__max_depth=10, classifier__min_samples_leaf=100, classifier__n_estimators=20 \n",
      "[CV]  classifier__max_depth=10, classifier__min_samples_leaf=100, classifier__n_estimators=20, total=   5.1s\n",
      "[CV] classifier__max_depth=10, classifier__min_samples_leaf=100, classifier__n_estimators=20 \n",
      "[CV]  classifier__max_depth=10, classifier__min_samples_leaf=100, classifier__n_estimators=20, total=   4.2s\n",
      "[CV] classifier__max_depth=10, classifier__min_samples_leaf=100, classifier__n_estimators=20 \n",
      "[CV]  classifier__max_depth=10, classifier__min_samples_leaf=100, classifier__n_estimators=20, total=   4.4s\n",
      "[CV] classifier__max_depth=20, classifier__min_samples_leaf=10, classifier__n_estimators=10 \n",
      "[CV]  classifier__max_depth=20, classifier__min_samples_leaf=10, classifier__n_estimators=10, total=   3.9s\n",
      "[CV] classifier__max_depth=20, classifier__min_samples_leaf=10, classifier__n_estimators=10 \n",
      "[CV]  classifier__max_depth=20, classifier__min_samples_leaf=10, classifier__n_estimators=10, total=   4.0s\n",
      "[CV] classifier__max_depth=20, classifier__min_samples_leaf=10, classifier__n_estimators=10 \n",
      "[CV]  classifier__max_depth=20, classifier__min_samples_leaf=10, classifier__n_estimators=10, total=   4.0s\n",
      "[CV] classifier__max_depth=20, classifier__min_samples_leaf=10, classifier__n_estimators=20 \n",
      "[CV]  classifier__max_depth=20, classifier__min_samples_leaf=10, classifier__n_estimators=20, total=   6.5s\n",
      "[CV] classifier__max_depth=20, classifier__min_samples_leaf=10, classifier__n_estimators=20 \n",
      "[CV]  classifier__max_depth=20, classifier__min_samples_leaf=10, classifier__n_estimators=20, total=   6.4s\n",
      "[CV] classifier__max_depth=20, classifier__min_samples_leaf=10, classifier__n_estimators=20 \n",
      "[CV]  classifier__max_depth=20, classifier__min_samples_leaf=10, classifier__n_estimators=20, total=   6.4s\n",
      "[CV] classifier__max_depth=20, classifier__min_samples_leaf=50, classifier__n_estimators=10 \n"
     ]
    },
    {
     "name": "stdout",
     "output_type": "stream",
     "text": [
      "[CV]  classifier__max_depth=20, classifier__min_samples_leaf=50, classifier__n_estimators=10, total=   3.6s\n",
      "[CV] classifier__max_depth=20, classifier__min_samples_leaf=50, classifier__n_estimators=10 \n",
      "[CV]  classifier__max_depth=20, classifier__min_samples_leaf=50, classifier__n_estimators=10, total=   3.5s\n",
      "[CV] classifier__max_depth=20, classifier__min_samples_leaf=50, classifier__n_estimators=10 \n",
      "[CV]  classifier__max_depth=20, classifier__min_samples_leaf=50, classifier__n_estimators=10, total=   3.6s\n",
      "[CV] classifier__max_depth=20, classifier__min_samples_leaf=50, classifier__n_estimators=20 \n",
      "[CV]  classifier__max_depth=20, classifier__min_samples_leaf=50, classifier__n_estimators=20, total=   5.9s\n",
      "[CV] classifier__max_depth=20, classifier__min_samples_leaf=50, classifier__n_estimators=20 \n",
      "[CV]  classifier__max_depth=20, classifier__min_samples_leaf=50, classifier__n_estimators=20, total=   5.7s\n",
      "[CV] classifier__max_depth=20, classifier__min_samples_leaf=50, classifier__n_estimators=20 \n",
      "[CV]  classifier__max_depth=20, classifier__min_samples_leaf=50, classifier__n_estimators=20, total=   5.7s\n",
      "[CV] classifier__max_depth=20, classifier__min_samples_leaf=100, classifier__n_estimators=10 \n",
      "[CV]  classifier__max_depth=20, classifier__min_samples_leaf=100, classifier__n_estimators=10, total=   3.5s\n",
      "[CV] classifier__max_depth=20, classifier__min_samples_leaf=100, classifier__n_estimators=10 \n",
      "[CV]  classifier__max_depth=20, classifier__min_samples_leaf=100, classifier__n_estimators=10, total=   3.4s\n",
      "[CV] classifier__max_depth=20, classifier__min_samples_leaf=100, classifier__n_estimators=10 \n",
      "[CV]  classifier__max_depth=20, classifier__min_samples_leaf=100, classifier__n_estimators=10, total=   3.5s\n",
      "[CV] classifier__max_depth=20, classifier__min_samples_leaf=100, classifier__n_estimators=20 \n",
      "[CV]  classifier__max_depth=20, classifier__min_samples_leaf=100, classifier__n_estimators=20, total=   5.4s\n",
      "[CV] classifier__max_depth=20, classifier__min_samples_leaf=100, classifier__n_estimators=20 \n",
      "[CV]  classifier__max_depth=20, classifier__min_samples_leaf=100, classifier__n_estimators=20, total=   5.5s\n",
      "[CV] classifier__max_depth=20, classifier__min_samples_leaf=100, classifier__n_estimators=20 \n",
      "[CV]  classifier__max_depth=20, classifier__min_samples_leaf=100, classifier__n_estimators=20, total=   6.0s\n"
     ]
    },
    {
     "name": "stderr",
     "output_type": "stream",
     "text": [
      "[Parallel(n_jobs=1)]: Done  54 out of  54 | elapsed:  4.1min finished\n"
     ]
    },
    {
     "name": "stdout",
     "output_type": "stream",
     "text": [
      "{'classifier__max_depth': 20, 'classifier__min_samples_leaf': 10, 'classifier__n_estimators': 20}\n",
      "0.6455374188185646\n"
     ]
    }
   ],
   "source": [
    "from sklearn.model_selection import GridSearchCV\n",
    "\n",
    "rf = Pipeline(steps=[('preprocessor', preprocessor),\n",
    "                      ('classifier', RandomForestClassifier())])\n",
    "\n",
    "\n",
    "# each entry is structured like 'pipelineStepName__parameterName':[values to test]\n",
    "param_grid = { \n",
    "    'classifier__max_depth' : [5,10,20],\n",
    "    'classifier__min_samples_leaf': [10,50,100],\n",
    "    'classifier__n_estimators':[10,20]\n",
    "}\n",
    "\n",
    "# pass in your pipeline & your parameter grid\n",
    "CV = GridSearchCV(rf, param_grid, n_jobs=1,verbose=2)      \n",
    "CV.fit(X, y)  \n",
    "print(CV.best_params_)    \n",
    "print(CV.best_score_)"
   ]
  },
  {
   "cell_type": "code",
   "execution_count": 41,
   "metadata": {},
   "outputs": [
    {
     "name": "stderr",
     "output_type": "stream",
     "text": [
      "/Users/Jesse/anaconda3/lib/python3.7/site-packages/sklearn/model_selection/_split.py:1978: FutureWarning: The default value of cv will change from 3 to 5 in version 0.22. Specify it explicitly to silence this warning.\n",
      "  warnings.warn(CV_WARNING, FutureWarning)\n",
      "[Parallel(n_jobs=1)]: Using backend SequentialBackend with 1 concurrent workers.\n"
     ]
    },
    {
     "name": "stdout",
     "output_type": "stream",
     "text": [
      "Fitting 3 folds for each of 12 candidates, totalling 36 fits\n",
      "[CV] classifier__C=0.01, classifier__penalty=l1, classifier__solver=liblinear \n",
      "[CV]  classifier__C=0.01, classifier__penalty=l1, classifier__solver=liblinear, total=   5.9s\n",
      "[CV] classifier__C=0.01, classifier__penalty=l1, classifier__solver=liblinear \n"
     ]
    },
    {
     "name": "stderr",
     "output_type": "stream",
     "text": [
      "[Parallel(n_jobs=1)]: Done   1 out of   1 | elapsed:    5.9s remaining:    0.0s\n"
     ]
    },
    {
     "name": "stdout",
     "output_type": "stream",
     "text": [
      "[CV]  classifier__C=0.01, classifier__penalty=l1, classifier__solver=liblinear, total=   7.6s\n",
      "[CV] classifier__C=0.01, classifier__penalty=l1, classifier__solver=liblinear \n",
      "[CV]  classifier__C=0.01, classifier__penalty=l1, classifier__solver=liblinear, total=   9.2s\n",
      "[CV] classifier__C=0.01, classifier__penalty=l1, classifier__solver=saga \n",
      "[CV]  classifier__C=0.01, classifier__penalty=l1, classifier__solver=saga, total=   6.8s\n",
      "[CV] classifier__C=0.01, classifier__penalty=l1, classifier__solver=saga \n",
      "[CV]  classifier__C=0.01, classifier__penalty=l1, classifier__solver=saga, total=   7.1s\n",
      "[CV] classifier__C=0.01, classifier__penalty=l1, classifier__solver=saga \n",
      "[CV]  classifier__C=0.01, classifier__penalty=l1, classifier__solver=saga, total=  10.7s\n",
      "[CV] classifier__C=0.01, classifier__penalty=l2, classifier__solver=liblinear \n",
      "[CV]  classifier__C=0.01, classifier__penalty=l2, classifier__solver=liblinear, total=   2.5s\n",
      "[CV] classifier__C=0.01, classifier__penalty=l2, classifier__solver=liblinear \n",
      "[CV]  classifier__C=0.01, classifier__penalty=l2, classifier__solver=liblinear, total=   3.0s\n",
      "[CV] classifier__C=0.01, classifier__penalty=l2, classifier__solver=liblinear \n",
      "[CV]  classifier__C=0.01, classifier__penalty=l2, classifier__solver=liblinear, total=   3.0s\n",
      "[CV] classifier__C=0.01, classifier__penalty=l2, classifier__solver=saga \n",
      "[CV]  classifier__C=0.01, classifier__penalty=l2, classifier__solver=saga, total=   7.2s\n",
      "[CV] classifier__C=0.01, classifier__penalty=l2, classifier__solver=saga \n",
      "[CV]  classifier__C=0.01, classifier__penalty=l2, classifier__solver=saga, total=   7.4s\n",
      "[CV] classifier__C=0.01, classifier__penalty=l2, classifier__solver=saga \n",
      "[CV]  classifier__C=0.01, classifier__penalty=l2, classifier__solver=saga, total=   7.6s\n",
      "[CV] classifier__C=0.1, classifier__penalty=l1, classifier__solver=liblinear \n",
      "[CV]  classifier__C=0.1, classifier__penalty=l1, classifier__solver=liblinear, total=  12.6s\n",
      "[CV] classifier__C=0.1, classifier__penalty=l1, classifier__solver=liblinear \n",
      "[CV]  classifier__C=0.1, classifier__penalty=l1, classifier__solver=liblinear, total=   7.7s\n",
      "[CV] classifier__C=0.1, classifier__penalty=l1, classifier__solver=liblinear \n",
      "[CV]  classifier__C=0.1, classifier__penalty=l1, classifier__solver=liblinear, total=   7.9s\n",
      "[CV] classifier__C=0.1, classifier__penalty=l1, classifier__solver=saga \n"
     ]
    },
    {
     "name": "stderr",
     "output_type": "stream",
     "text": [
      "/Users/Jesse/anaconda3/lib/python3.7/site-packages/sklearn/linear_model/sag.py:337: ConvergenceWarning: The max_iter was reached which means the coef_ did not converge\n",
      "  \"the coef_ did not converge\", ConvergenceWarning)\n"
     ]
    },
    {
     "name": "stdout",
     "output_type": "stream",
     "text": [
      "[CV]  classifier__C=0.1, classifier__penalty=l1, classifier__solver=saga, total=  24.4s\n",
      "[CV] classifier__C=0.1, classifier__penalty=l1, classifier__solver=saga \n",
      "[CV]  classifier__C=0.1, classifier__penalty=l1, classifier__solver=saga, total=  21.2s\n",
      "[CV] classifier__C=0.1, classifier__penalty=l1, classifier__solver=saga \n",
      "[CV]  classifier__C=0.1, classifier__penalty=l1, classifier__solver=saga, total=  16.2s\n",
      "[CV] classifier__C=0.1, classifier__penalty=l2, classifier__solver=liblinear \n",
      "[CV]  classifier__C=0.1, classifier__penalty=l2, classifier__solver=liblinear, total=   2.6s\n",
      "[CV] classifier__C=0.1, classifier__penalty=l2, classifier__solver=liblinear \n",
      "[CV]  classifier__C=0.1, classifier__penalty=l2, classifier__solver=liblinear, total=   2.6s\n",
      "[CV] classifier__C=0.1, classifier__penalty=l2, classifier__solver=liblinear \n",
      "[CV]  classifier__C=0.1, classifier__penalty=l2, classifier__solver=liblinear, total=   2.6s\n",
      "[CV] classifier__C=0.1, classifier__penalty=l2, classifier__solver=saga \n"
     ]
    },
    {
     "name": "stderr",
     "output_type": "stream",
     "text": [
      "/Users/Jesse/anaconda3/lib/python3.7/site-packages/sklearn/linear_model/sag.py:337: ConvergenceWarning: The max_iter was reached which means the coef_ did not converge\n",
      "  \"the coef_ did not converge\", ConvergenceWarning)\n"
     ]
    },
    {
     "name": "stdout",
     "output_type": "stream",
     "text": [
      "[CV]  classifier__C=0.1, classifier__penalty=l2, classifier__solver=saga, total=  17.7s\n",
      "[CV] classifier__C=0.1, classifier__penalty=l2, classifier__solver=saga \n"
     ]
    },
    {
     "name": "stderr",
     "output_type": "stream",
     "text": [
      "/Users/Jesse/anaconda3/lib/python3.7/site-packages/sklearn/linear_model/sag.py:337: ConvergenceWarning: The max_iter was reached which means the coef_ did not converge\n",
      "  \"the coef_ did not converge\", ConvergenceWarning)\n"
     ]
    },
    {
     "name": "stdout",
     "output_type": "stream",
     "text": [
      "[CV]  classifier__C=0.1, classifier__penalty=l2, classifier__solver=saga, total=  17.9s\n",
      "[CV] classifier__C=0.1, classifier__penalty=l2, classifier__solver=saga \n"
     ]
    },
    {
     "name": "stderr",
     "output_type": "stream",
     "text": [
      "/Users/Jesse/anaconda3/lib/python3.7/site-packages/sklearn/linear_model/sag.py:337: ConvergenceWarning: The max_iter was reached which means the coef_ did not converge\n",
      "  \"the coef_ did not converge\", ConvergenceWarning)\n"
     ]
    },
    {
     "name": "stdout",
     "output_type": "stream",
     "text": [
      "[CV]  classifier__C=0.1, classifier__penalty=l2, classifier__solver=saga, total=  17.7s\n",
      "[CV] classifier__C=1, classifier__penalty=l1, classifier__solver=liblinear \n",
      "[CV]  classifier__C=1, classifier__penalty=l1, classifier__solver=liblinear, total=  23.8s\n",
      "[CV] classifier__C=1, classifier__penalty=l1, classifier__solver=liblinear \n",
      "[CV]  classifier__C=1, classifier__penalty=l1, classifier__solver=liblinear, total=  40.1s\n",
      "[CV] classifier__C=1, classifier__penalty=l1, classifier__solver=liblinear \n",
      "[CV]  classifier__C=1, classifier__penalty=l1, classifier__solver=liblinear, total=  30.8s\n",
      "[CV] classifier__C=1, classifier__penalty=l1, classifier__solver=saga \n"
     ]
    },
    {
     "name": "stderr",
     "output_type": "stream",
     "text": [
      "/Users/Jesse/anaconda3/lib/python3.7/site-packages/sklearn/linear_model/sag.py:337: ConvergenceWarning: The max_iter was reached which means the coef_ did not converge\n",
      "  \"the coef_ did not converge\", ConvergenceWarning)\n"
     ]
    },
    {
     "name": "stdout",
     "output_type": "stream",
     "text": [
      "[CV]  classifier__C=1, classifier__penalty=l1, classifier__solver=saga, total=  20.3s\n",
      "[CV] classifier__C=1, classifier__penalty=l1, classifier__solver=saga \n"
     ]
    },
    {
     "name": "stderr",
     "output_type": "stream",
     "text": [
      "/Users/Jesse/anaconda3/lib/python3.7/site-packages/sklearn/linear_model/sag.py:337: ConvergenceWarning: The max_iter was reached which means the coef_ did not converge\n",
      "  \"the coef_ did not converge\", ConvergenceWarning)\n"
     ]
    },
    {
     "name": "stdout",
     "output_type": "stream",
     "text": [
      "[CV]  classifier__C=1, classifier__penalty=l1, classifier__solver=saga, total=  20.0s\n",
      "[CV] classifier__C=1, classifier__penalty=l1, classifier__solver=saga \n"
     ]
    },
    {
     "name": "stderr",
     "output_type": "stream",
     "text": [
      "/Users/Jesse/anaconda3/lib/python3.7/site-packages/sklearn/linear_model/sag.py:337: ConvergenceWarning: The max_iter was reached which means the coef_ did not converge\n",
      "  \"the coef_ did not converge\", ConvergenceWarning)\n"
     ]
    },
    {
     "name": "stdout",
     "output_type": "stream",
     "text": [
      "[CV]  classifier__C=1, classifier__penalty=l1, classifier__solver=saga, total=  19.9s\n",
      "[CV] classifier__C=1, classifier__penalty=l2, classifier__solver=liblinear \n",
      "[CV]  classifier__C=1, classifier__penalty=l2, classifier__solver=liblinear, total=   3.1s\n",
      "[CV] classifier__C=1, classifier__penalty=l2, classifier__solver=liblinear \n",
      "[CV]  classifier__C=1, classifier__penalty=l2, classifier__solver=liblinear, total=   2.9s\n",
      "[CV] classifier__C=1, classifier__penalty=l2, classifier__solver=liblinear \n",
      "[CV]  classifier__C=1, classifier__penalty=l2, classifier__solver=liblinear, total=   3.2s\n",
      "[CV] classifier__C=1, classifier__penalty=l2, classifier__solver=saga \n"
     ]
    },
    {
     "name": "stderr",
     "output_type": "stream",
     "text": [
      "/Users/Jesse/anaconda3/lib/python3.7/site-packages/sklearn/linear_model/sag.py:337: ConvergenceWarning: The max_iter was reached which means the coef_ did not converge\n",
      "  \"the coef_ did not converge\", ConvergenceWarning)\n"
     ]
    },
    {
     "name": "stdout",
     "output_type": "stream",
     "text": [
      "[CV]  classifier__C=1, classifier__penalty=l2, classifier__solver=saga, total=  18.0s\n",
      "[CV] classifier__C=1, classifier__penalty=l2, classifier__solver=saga \n"
     ]
    },
    {
     "name": "stderr",
     "output_type": "stream",
     "text": [
      "/Users/Jesse/anaconda3/lib/python3.7/site-packages/sklearn/linear_model/sag.py:337: ConvergenceWarning: The max_iter was reached which means the coef_ did not converge\n",
      "  \"the coef_ did not converge\", ConvergenceWarning)\n"
     ]
    },
    {
     "name": "stdout",
     "output_type": "stream",
     "text": [
      "[CV]  classifier__C=1, classifier__penalty=l2, classifier__solver=saga, total=  18.1s\n",
      "[CV] classifier__C=1, classifier__penalty=l2, classifier__solver=saga \n"
     ]
    },
    {
     "name": "stderr",
     "output_type": "stream",
     "text": [
      "/Users/Jesse/anaconda3/lib/python3.7/site-packages/sklearn/linear_model/sag.py:337: ConvergenceWarning: The max_iter was reached which means the coef_ did not converge\n",
      "  \"the coef_ did not converge\", ConvergenceWarning)\n"
     ]
    },
    {
     "name": "stdout",
     "output_type": "stream",
     "text": [
      "[CV]  classifier__C=1, classifier__penalty=l2, classifier__solver=saga, total=  18.1s\n"
     ]
    },
    {
     "name": "stderr",
     "output_type": "stream",
     "text": [
      "[Parallel(n_jobs=1)]: Done  36 out of  36 | elapsed:  7.5min finished\n"
     ]
    },
    {
     "name": "stdout",
     "output_type": "stream",
     "text": [
      "{'classifier__C': 0.1, 'classifier__penalty': 'l2', 'classifier__solver': 'saga'}\n",
      "0.6376910218584726\n"
     ]
    },
    {
     "name": "stderr",
     "output_type": "stream",
     "text": [
      "/Users/Jesse/anaconda3/lib/python3.7/site-packages/sklearn/linear_model/sag.py:337: ConvergenceWarning: The max_iter was reached which means the coef_ did not converge\n",
      "  \"the coef_ did not converge\", ConvergenceWarning)\n"
     ]
    }
   ],
   "source": [
    "from sklearn.model_selection import GridSearchCV\n",
    "\n",
    "rf = Pipeline(steps=[('preprocessor', preprocessor),\n",
    "                      ('classifier', LogisticRegression())])\n",
    "\n",
    "param_grid =  {\n",
    "    'classifier__penalty' : ['l1', 'l2'],\n",
    "    'classifier__C' : [0.01, 0.1, 1],\n",
    "    'classifier__solver' : ['liblinear','saga']\n",
    "}\n",
    "CV = GridSearchCV(rf, param_grid, n_jobs=1,verbose=2)\n",
    "                  \n",
    "CV.fit(X, y)  \n",
    "print(CV.best_params_)    \n",
    "print(CV.best_score_)"
   ]
  },
  {
   "cell_type": "code",
   "execution_count": 43,
   "metadata": {
    "scrolled": false
   },
   "outputs": [
    {
     "name": "stdout",
     "output_type": "stream",
     "text": [
      "Iteration 1, loss = 0.65531937\n",
      "Iteration 2, loss = 0.63776073\n",
      "Iteration 3, loss = 0.63647727\n",
      "Iteration 4, loss = 0.63579756\n",
      "Iteration 5, loss = 0.63439660\n",
      "Iteration 6, loss = 0.63379894\n",
      "Iteration 7, loss = 0.63270565\n",
      "Iteration 8, loss = 0.63224561\n",
      "Iteration 9, loss = 0.63181099\n",
      "Iteration 10, loss = 0.63131991\n",
      "Iteration 11, loss = 0.63099618\n",
      "Iteration 12, loss = 0.63059415\n",
      "Iteration 13, loss = 0.63059045\n",
      "Iteration 14, loss = 0.63028870\n",
      "Iteration 15, loss = 0.62997543\n",
      "Iteration 16, loss = 0.62990071\n",
      "Iteration 17, loss = 0.62990199\n",
      "Iteration 18, loss = 0.62957676\n",
      "Iteration 19, loss = 0.62949392\n",
      "Iteration 20, loss = 0.62926859\n",
      "Iteration 21, loss = 0.62915647\n",
      "Iteration 22, loss = 0.62904098\n",
      "Iteration 23, loss = 0.62910644\n",
      "Iteration 24, loss = 0.62880122\n",
      "Iteration 25, loss = 0.62866621\n",
      "Iteration 26, loss = 0.62863885\n",
      "Iteration 27, loss = 0.62858261\n",
      "Iteration 28, loss = 0.62840353\n",
      "Iteration 29, loss = 0.62837508\n",
      "Iteration 30, loss = 0.62842434\n",
      "Iteration 31, loss = 0.62807241\n",
      "Iteration 32, loss = 0.62819736\n",
      "Iteration 33, loss = 0.62806474\n",
      "Iteration 34, loss = 0.62797856\n",
      "Iteration 35, loss = 0.62798110\n",
      "Iteration 36, loss = 0.62777915\n",
      "Iteration 37, loss = 0.62782394\n",
      "Iteration 38, loss = 0.62770690\n",
      "Iteration 39, loss = 0.62759779\n",
      "Iteration 40, loss = 0.62771633\n",
      "Iteration 41, loss = 0.62767068\n",
      "Iteration 42, loss = 0.62741585\n",
      "Iteration 43, loss = 0.62724749\n",
      "Iteration 44, loss = 0.62732447\n",
      "Iteration 45, loss = 0.62722256\n",
      "Iteration 46, loss = 0.62716573\n",
      "Iteration 47, loss = 0.62723768\n",
      "Iteration 48, loss = 0.62712237\n",
      "Iteration 49, loss = 0.62707806\n",
      "Iteration 50, loss = 0.62687730\n",
      "Iteration 51, loss = 0.62697824\n",
      "Iteration 52, loss = 0.62690951\n",
      "Iteration 53, loss = 0.62687399\n",
      "Iteration 54, loss = 0.62680518\n",
      "Iteration 55, loss = 0.62669680\n",
      "Iteration 56, loss = 0.62672879\n",
      "Iteration 57, loss = 0.62668146\n",
      "Iteration 58, loss = 0.62661239\n",
      "Iteration 59, loss = 0.62677110\n",
      "Iteration 60, loss = 0.62673230\n",
      "Iteration 61, loss = 0.62647268\n",
      "Iteration 62, loss = 0.62664855\n",
      "Iteration 63, loss = 0.62651499\n",
      "Iteration 64, loss = 0.62650971\n",
      "Iteration 65, loss = 0.62663531\n",
      "Iteration 66, loss = 0.62675580\n",
      "Iteration 67, loss = 0.62633695\n",
      "Iteration 68, loss = 0.62638579\n",
      "Iteration 69, loss = 0.62634753\n",
      "Iteration 70, loss = 0.62627714\n",
      "Iteration 71, loss = 0.62633325\n",
      "Iteration 72, loss = 0.62618829\n",
      "Iteration 73, loss = 0.62630295\n",
      "Iteration 74, loss = 0.62623272\n",
      "Iteration 75, loss = 0.62628043\n",
      "Iteration 76, loss = 0.62607709\n",
      "Iteration 77, loss = 0.62614805\n",
      "Iteration 78, loss = 0.62619167\n",
      "Iteration 79, loss = 0.62611934\n",
      "Iteration 80, loss = 0.62606053\n",
      "Iteration 81, loss = 0.62626056\n",
      "Iteration 82, loss = 0.62609037\n",
      "Iteration 83, loss = 0.62613456\n",
      "Iteration 84, loss = 0.62599354\n",
      "Iteration 85, loss = 0.62592008\n",
      "Iteration 86, loss = 0.62599816\n",
      "Iteration 87, loss = 0.62590001\n",
      "Training loss did not improve more than tol=0.000100 for 10 consecutive epochs. Stopping.\n",
      "MLPClassifier(activation='relu', alpha=0.0001, batch_size='auto', beta_1=0.9,\n",
      "              beta_2=0.999, early_stopping=False, epsilon=1e-08,\n",
      "              hidden_layer_sizes=(25,), learning_rate='constant',\n",
      "              learning_rate_init=0.001, max_iter=200, momentum=0.9,\n",
      "              n_iter_no_change=10, nesterovs_momentum=True, power_t=0.5,\n",
      "              random_state=None, shuffle=True, solver='adam', tol=0.0001,\n",
      "              validation_fraction=0.1, verbose=True, warm_start=False)\n",
      "model score: 0.645\n",
      "Iteration 1, loss = 0.64645567\n",
      "Iteration 2, loss = 0.63693766\n",
      "Iteration 3, loss = 0.63565123\n",
      "Iteration 4, loss = 0.63521253\n",
      "Iteration 5, loss = 0.63430268\n",
      "Iteration 6, loss = 0.63344946\n",
      "Iteration 7, loss = 0.63279356\n",
      "Iteration 8, loss = 0.63212673\n",
      "Iteration 9, loss = 0.63154628\n",
      "Iteration 10, loss = 0.63092916\n",
      "Iteration 11, loss = 0.63062869\n",
      "Iteration 12, loss = 0.63013808\n",
      "Iteration 13, loss = 0.62963867\n",
      "Iteration 14, loss = 0.62954698\n",
      "Iteration 15, loss = 0.62931788\n",
      "Iteration 16, loss = 0.62879214\n",
      "Iteration 17, loss = 0.62909459\n",
      "Iteration 18, loss = 0.62853471\n",
      "Iteration 19, loss = 0.62835006\n",
      "Iteration 20, loss = 0.62816394\n",
      "Iteration 21, loss = 0.62802113\n",
      "Iteration 22, loss = 0.62791224\n",
      "Iteration 23, loss = 0.62770165\n",
      "Iteration 24, loss = 0.62737828\n",
      "Iteration 25, loss = 0.62753399\n",
      "Iteration 26, loss = 0.62718544\n",
      "Iteration 27, loss = 0.62710486\n",
      "Iteration 28, loss = 0.62697777\n",
      "Iteration 29, loss = 0.62678512\n",
      "Iteration 30, loss = 0.62662189\n",
      "Iteration 31, loss = 0.62661292\n",
      "Iteration 32, loss = 0.62643157\n",
      "Iteration 33, loss = 0.62627135\n",
      "Iteration 34, loss = 0.62631574\n",
      "Iteration 35, loss = 0.62617376\n",
      "Iteration 36, loss = 0.62608379\n",
      "Iteration 37, loss = 0.62587770\n",
      "Iteration 38, loss = 0.62574321\n",
      "Iteration 39, loss = 0.62574925\n",
      "Iteration 40, loss = 0.62554706\n",
      "Iteration 41, loss = 0.62520802\n",
      "Iteration 42, loss = 0.62542882\n",
      "Iteration 43, loss = 0.62510800\n",
      "Iteration 44, loss = 0.62512904\n",
      "Iteration 45, loss = 0.62491540\n",
      "Iteration 46, loss = 0.62484454\n",
      "Iteration 47, loss = 0.62484096\n",
      "Iteration 48, loss = 0.62478429\n",
      "Iteration 49, loss = 0.62471103\n",
      "Iteration 50, loss = 0.62461938\n",
      "Iteration 51, loss = 0.62454403\n",
      "Iteration 52, loss = 0.62459674\n",
      "Iteration 53, loss = 0.62438666\n",
      "Iteration 54, loss = 0.62450136\n",
      "Iteration 55, loss = 0.62439632\n",
      "Iteration 56, loss = 0.62417262\n",
      "Iteration 57, loss = 0.62419494\n",
      "Iteration 58, loss = 0.62430414\n",
      "Iteration 59, loss = 0.62429464\n",
      "Iteration 60, loss = 0.62404612\n",
      "Iteration 61, loss = 0.62401781\n",
      "Iteration 62, loss = 0.62389350\n",
      "Iteration 63, loss = 0.62380519\n",
      "Iteration 64, loss = 0.62372582\n",
      "Iteration 65, loss = 0.62374783\n",
      "Iteration 66, loss = 0.62374292\n",
      "Iteration 67, loss = 0.62375041\n",
      "Iteration 68, loss = 0.62355484\n",
      "Iteration 69, loss = 0.62361928\n",
      "Iteration 70, loss = 0.62338713\n",
      "Iteration 71, loss = 0.62344175\n",
      "Iteration 72, loss = 0.62354461\n",
      "Iteration 73, loss = 0.62344820\n",
      "Iteration 74, loss = 0.62342360\n",
      "Iteration 75, loss = 0.62339855\n",
      "Iteration 76, loss = 0.62326257\n",
      "Iteration 77, loss = 0.62315353\n",
      "Iteration 78, loss = 0.62305555\n",
      "Iteration 79, loss = 0.62305352\n",
      "Iteration 80, loss = 0.62306833\n",
      "Iteration 81, loss = 0.62300850\n",
      "Iteration 82, loss = 0.62299143\n",
      "Iteration 83, loss = 0.62298043\n",
      "Iteration 84, loss = 0.62293939\n",
      "Iteration 85, loss = 0.62290282\n",
      "Iteration 86, loss = 0.62289360\n",
      "Iteration 87, loss = 0.62290565\n",
      "Iteration 88, loss = 0.62291276\n",
      "Training loss did not improve more than tol=0.000100 for 10 consecutive epochs. Stopping.\n",
      "MLPClassifier(activation='relu', alpha=0.0001, batch_size='auto', beta_1=0.9,\n",
      "              beta_2=0.999, early_stopping=False, epsilon=1e-08,\n",
      "              hidden_layer_sizes=(25, 25), learning_rate='constant',\n",
      "              learning_rate_init=0.001, max_iter=200, momentum=0.9,\n",
      "              n_iter_no_change=10, nesterovs_momentum=True, power_t=0.5,\n",
      "              random_state=None, shuffle=True, solver='adam', tol=0.0001,\n",
      "              validation_fraction=0.1, verbose=True, warm_start=False)\n",
      "model score: 0.642\n"
     ]
    }
   ],
   "source": [
    "classifiers = [\n",
    "        MLPClassifier(hidden_layer_sizes=(25,), verbose=True),\n",
    "        MLPClassifier(hidden_layer_sizes=(25,25,), verbose=True)\n",
    "    ]\n",
    "\n",
    "for classifier in classifiers:\n",
    "    pipe = Pipeline(steps=[('preprocessor', preprocessor),\n",
    "                      ('classifier', classifier)])\n",
    "    pipe.fit(X_train, y_train)   \n",
    "    print(classifier)\n",
    "    print(\"model score: %.3f\" % pipe.score(X_test, y_test))"
   ]
  },
  {
   "cell_type": "markdown",
   "metadata": {},
   "source": [
    "# testing geo/currency"
   ]
  },
  {
   "cell_type": "code",
   "execution_count": 23,
   "metadata": {},
   "outputs": [],
   "source": [
    "X = df.drop(columns=['state','success','usd_pledged_real','currency'])\n",
    "X_train, X_test, y_train, y_test = train_test_split(X, y, test_size = 0.2)"
   ]
  },
  {
   "cell_type": "code",
   "execution_count": 24,
   "metadata": {},
   "outputs": [],
   "source": [
    "numeric_features = X.select_dtypes(include=['int64', 'float64']).drop(['launchMonth','launchDay','launchHour'],axis=1).columns\n",
    "categorical_features = list(X.select_dtypes(include=['object'])) + ['launchMonth','launchDay','launchHour']\n",
    "\n",
    "from sklearn.compose import ColumnTransformer\n",
    "preprocessor = ColumnTransformer(\n",
    "    transformers=[\n",
    "        ('num', StandardScaler(), numeric_features),\n",
    "        ('cat', ce.OneHotEncoder(), categorical_features)])"
   ]
  },
  {
   "cell_type": "code",
   "execution_count": 25,
   "metadata": {
    "scrolled": true
   },
   "outputs": [
    {
     "name": "stdout",
     "output_type": "stream",
     "text": [
      "RandomForestClassifier(bootstrap=True, class_weight=None, criterion='gini',\n",
      "                       max_depth=20, max_features='auto', max_leaf_nodes=None,\n",
      "                       min_impurity_decrease=0.0, min_impurity_split=None,\n",
      "                       min_samples_leaf=10, min_samples_split=2,\n",
      "                       min_weight_fraction_leaf=0.0, n_estimators=20,\n",
      "                       n_jobs=None, oob_score=False, random_state=None,\n",
      "                       verbose=0, warm_start=False)\n",
      "model score: 0.651\n"
     ]
    }
   ],
   "source": [
    "classifier = RandomForestClassifier(max_depth=20, min_samples_leaf=10, n_estimators=20)\n",
    "pipe = Pipeline(steps=[('preprocessor', preprocessor),\n",
    "              ('classifier', classifier)])\n",
    "pipe.fit(X_train, y_train)   \n",
    "print(classifier)\n",
    "print(\"model score: %.3f\" % pipe.score(X_test, y_test))"
   ]
  },
  {
   "cell_type": "markdown",
   "metadata": {},
   "source": [
    "# rf with ordinal encoding for feature importances"
   ]
  },
  {
   "cell_type": "code",
   "execution_count": 27,
   "metadata": {
    "scrolled": true
   },
   "outputs": [
    {
     "name": "stdout",
     "output_type": "stream",
     "text": [
      "RandomForestClassifier(bootstrap=True, class_weight=None, criterion='gini',\n",
      "                       max_depth=20, max_features='auto', max_leaf_nodes=None,\n",
      "                       min_impurity_decrease=0.0, min_impurity_split=None,\n",
      "                       min_samples_leaf=10, min_samples_split=2,\n",
      "                       min_weight_fraction_leaf=0.0, n_estimators=20,\n",
      "                       n_jobs=None, oob_score=False, random_state=None,\n",
      "                       verbose=0, warm_start=False)\n",
      "model score: 0.642\n"
     ]
    }
   ],
   "source": [
    "numeric_features = X.select_dtypes(include=['int64', 'float64']).drop(['launchMonth','launchDay','launchHour'],axis=1).columns\n",
    "categorical_features = list(X.select_dtypes(include=['object'])) + ['launchMonth','launchDay','launchHour']\n",
    "\n",
    "from sklearn.compose import ColumnTransformer\n",
    "preprocessor = ColumnTransformer(\n",
    "    transformers=[\n",
    "        ('num', StandardScaler(), numeric_features),\n",
    "        ('cat', ce.OrdinalEncoder(), categorical_features)])\n",
    "\n",
    "classifier = RandomForestClassifier(max_depth=20, min_samples_leaf=10, n_estimators=20)\n",
    "\n",
    "pipe = Pipeline(steps=[('preprocessor', preprocessor),\n",
    "              ('classifier', classifier)])\n",
    "pipe.fit(X_train, y_train)   \n",
    "print(classifier)\n",
    "print(\"model score: %.3f\" % pipe.score(X_test, y_test))"
   ]
  },
  {
   "cell_type": "code",
   "execution_count": 29,
   "metadata": {},
   "outputs": [
    {
     "data": {
      "text/html": [
       "<div>\n",
       "<style scoped>\n",
       "    .dataframe tbody tr th:only-of-type {\n",
       "        vertical-align: middle;\n",
       "    }\n",
       "\n",
       "    .dataframe tbody tr th {\n",
       "        vertical-align: top;\n",
       "    }\n",
       "\n",
       "    .dataframe thead th {\n",
       "        text-align: right;\n",
       "    }\n",
       "</style>\n",
       "<table border=\"1\" class=\"dataframe\">\n",
       "  <thead>\n",
       "    <tr style=\"text-align: right;\">\n",
       "      <th></th>\n",
       "      <th>feature</th>\n",
       "      <th>importance</th>\n",
       "    </tr>\n",
       "  </thead>\n",
       "  <tbody>\n",
       "    <tr>\n",
       "      <th>1</th>\n",
       "      <td>country</td>\n",
       "      <td>0.246592</td>\n",
       "    </tr>\n",
       "    <tr>\n",
       "      <th>2</th>\n",
       "      <td>titleLength</td>\n",
       "      <td>0.233231</td>\n",
       "    </tr>\n",
       "    <tr>\n",
       "      <th>3</th>\n",
       "      <td>logGoal</td>\n",
       "      <td>0.163886</td>\n",
       "    </tr>\n",
       "    <tr>\n",
       "      <th>0</th>\n",
       "      <td>main_category</td>\n",
       "      <td>0.121046</td>\n",
       "    </tr>\n",
       "    <tr>\n",
       "      <th>7</th>\n",
       "      <td>duration</td>\n",
       "      <td>0.080262</td>\n",
       "    </tr>\n",
       "    <tr>\n",
       "      <th>5</th>\n",
       "      <td>launchDay</td>\n",
       "      <td>0.070510</td>\n",
       "    </tr>\n",
       "    <tr>\n",
       "      <th>6</th>\n",
       "      <td>launchHour</td>\n",
       "      <td>0.052810</td>\n",
       "    </tr>\n",
       "    <tr>\n",
       "      <th>4</th>\n",
       "      <td>launchMonth</td>\n",
       "      <td>0.031663</td>\n",
       "    </tr>\n",
       "  </tbody>\n",
       "</table>\n",
       "</div>"
      ],
      "text/plain": [
       "         feature  importance\n",
       "1        country    0.246592\n",
       "2    titleLength    0.233231\n",
       "3        logGoal    0.163886\n",
       "0  main_category    0.121046\n",
       "7       duration    0.080262\n",
       "5      launchDay    0.070510\n",
       "6     launchHour    0.052810\n",
       "4    launchMonth    0.031663"
      ]
     },
     "execution_count": 29,
     "metadata": {},
     "output_type": "execute_result"
    }
   ],
   "source": [
    "pd.DataFrame(zip(X.columns,classifier.feature_importances_),columns=['feature','importance']).sort_values(by='importance',ascending=False)"
   ]
  },
  {
   "cell_type": "markdown",
   "metadata": {},
   "source": [
    "# model evaluation for rf"
   ]
  },
  {
   "cell_type": "code",
   "execution_count": 27,
   "metadata": {
    "scrolled": true
   },
   "outputs": [
    {
     "name": "stderr",
     "output_type": "stream",
     "text": [
      "/Users/Jesse/anaconda3/lib/python3.7/site-packages/sklearn/ensemble/forest.py:245: FutureWarning: The default value of n_estimators will change from 10 in version 0.20 to 100 in 0.22.\n",
      "  \"10 in version 0.20 to 100 in 0.22.\", FutureWarning)\n"
     ]
    },
    {
     "data": {
      "text/plain": [
       "Pipeline(memory=None,\n",
       "         steps=[('preprocessor',\n",
       "                 ColumnTransformer(n_jobs=None, remainder='drop',\n",
       "                                   sparse_threshold=0.3,\n",
       "                                   transformer_weights=None,\n",
       "                                   transformers=[('num',\n",
       "                                                  StandardScaler(copy=True,\n",
       "                                                                 with_mean=True,\n",
       "                                                                 with_std=True),\n",
       "                                                  Index(['titleLength', 'logGoal', 'duration'], dtype='object')),\n",
       "                                                 ('cat',\n",
       "                                                  OrdinalEncoder(cols=None,\n",
       "                                                                 drop_invariant=False,\n",
       "                                                                 handle_missing='value',\n",
       "                                                                 h...\n",
       "                 RandomForestClassifier(bootstrap=True, class_weight=None,\n",
       "                                        criterion='gini', max_depth=20,\n",
       "                                        max_features='auto',\n",
       "                                        max_leaf_nodes=None,\n",
       "                                        min_impurity_decrease=0.0,\n",
       "                                        min_impurity_split=None,\n",
       "                                        min_samples_leaf=50,\n",
       "                                        min_samples_split=2,\n",
       "                                        min_weight_fraction_leaf=0.0,\n",
       "                                        n_estimators=10, n_jobs=None,\n",
       "                                        oob_score=False, random_state=None,\n",
       "                                        verbose=0, warm_start=False))],\n",
       "         verbose=False)"
      ]
     },
     "execution_count": 27,
     "metadata": {},
     "output_type": "execute_result"
    }
   ],
   "source": [
    "X.drop(columns=[\"currency\"], inplace=True)\n",
    "numeric_features = X.select_dtypes(include=['int64', 'float64']).drop(['launchMonth','launchDay','launchHour'],axis=1).columns\n",
    "categorical_features = list(X.select_dtypes(include=['object'])) + ['launchMonth','launchDay','launchHour']\n",
    "\n",
    "from sklearn.compose import ColumnTransformer\n",
    "preprocessor = ColumnTransformer(\n",
    "    transformers=[\n",
    "        ('num', StandardScaler(), numeric_features),\n",
    "        ('cat', ce.OrdinalEncoder(), categorical_features)])\n",
    "\n",
    "classifier = RandomForestClassifier(max_depth=20, min_samples_leaf=50)\n",
    "\n",
    "pipe = Pipeline(steps=[('preprocessor', preprocessor),\n",
    "              ('classifier', classifier)])\n",
    "\n",
    "pipe.fit(X, y)   \n",
    "# y_pred = pipe.predict(X_test)"
   ]
  },
  {
   "cell_type": "code",
   "execution_count": 76,
   "metadata": {},
   "outputs": [
    {
     "data": {
      "text/plain": [
       "array([1])"
      ]
     },
     "execution_count": 76,
     "metadata": {},
     "output_type": "execute_result"
    }
   ],
   "source": [
    "test = pd.DataFrame({\"main_category\":\"Dance\",\n",
    "                     \"country\":\"US\",\n",
    "                     \"titleLength\":len(\"join alex rudra for a night of 'banking and ballet'\"),\n",
    "                     \"logGoal\":np.log10(3000),\n",
    "                     \"launchMonth\":10,\n",
    "                     \"launchDay\":4.5,\n",
    "                     \"launchHour\":15,\n",
    "                     \"duration\":30*24*60\n",
    "                    },index=[0])\n",
    "\n",
    "pipe.predict(test)"
   ]
  },
  {
   "cell_type": "code",
   "execution_count": 77,
   "metadata": {},
   "outputs": [
    {
     "data": {
      "text/plain": [
       "51"
      ]
     },
     "execution_count": 77,
     "metadata": {},
     "output_type": "execute_result"
    }
   ],
   "source": [
    "len(\"join alex rudra for a night of 'banking and ballet'\")"
   ]
  },
  {
   "cell_type": "code",
   "execution_count": 31,
   "metadata": {
    "scrolled": true
   },
   "outputs": [
    {
     "data": {
      "image/png": "[encoded data removed]",
      "text/plain": [
       "<Figure size 432x288 with 1 Axes>"
      ]
     },
     "metadata": {
      "needs_background": "light"
     },
     "output_type": "display_data"
    }
   ],
   "source": [
    "aucscore = metrics.roc_auc_score(y_pred, y_test)\n",
    "\n",
    "fpr, tpr,_=roc_curve(y_pred, y_test)\n",
    "\n",
    "plt.plot(fpr, tpr, color='red',lw=2, label='ROC curve')\n",
    "plt.plot([0, 1], [0, 1], color='blue', lw=2, linestyle='--')\n",
    "plt.xlabel('FPR')\n",
    "plt.ylabel('TPR')\n",
    "plt.title('ROC Curve AUC = '+ str(aucscore.round(4)))\n",
    "plt.show()"
   ]
  },
  {
   "cell_type": "code",
   "execution_count": 32,
   "metadata": {},
   "outputs": [
    {
     "data": {
      "text/plain": [
       "[Text(33.0, 0.5, 'Actual Class'),\n",
       " Text(0.5, 33.0, 'Predicted Class'),\n",
       " Text(0.5, 1.0, 'Confusion Matrix')]"
      ]
     },
     "execution_count": 32,
     "metadata": {},
     "output_type": "execute_result"
    },
    {
     "data": {
      "image/png": "[encoded data removed]",
      "text/plain": [
       "<Figure size 432x432 with 1 Axes>"
      ]
     },
     "metadata": {
      "needs_background": "light"
     },
     "output_type": "display_data"
    }
   ],
   "source": [
    "test_cf = pd.DataFrame(confusion_matrix(y_test,y_pred))\n",
    "\n",
    "fig, ax = plt.subplots(figsize=(6,6))\n",
    "ax = sns.heatmap(test_cf,annot=True,fmt='d',cmap='Blues',cbar=False)\n",
    "ax.set(xlabel='Predicted Class',ylabel='Actual Class',title='Confusion Matrix')"
   ]
  },
  {
   "cell_type": "code",
   "execution_count": 33,
   "metadata": {},
   "outputs": [
    {
     "data": {
      "text/plain": [
       "[Text(33.0, 0.5, 'Actual Class'),\n",
       " Text(0.5, 33.0, 'Predicted Class'),\n",
       " Text(0.5, 1.0, 'Normalized Confusion Matrix')]"
      ]
     },
     "execution_count": 33,
     "metadata": {},
     "output_type": "execute_result"
    },
    {
     "data": {
      "image/png": "[encoded data removed]",
      "text/plain": [
       "<Figure size 432x432 with 1 Axes>"
      ]
     },
     "metadata": {
      "needs_background": "light"
     },
     "output_type": "display_data"
    }
   ],
   "source": [
    "#returns an array of the number of samples per quadrant\n",
    "test_cf = confusion_matrix(y_test,y_pred)\n",
    "\n",
    "#for each row, divides the values by the row sum\n",
    "test_cf = test_cf.astype('float') / test_cf.sum(axis=1)[:, np.newaxis]\n",
    "test_cf = pd.DataFrame(test_cf)\n",
    "                           \n",
    "#create visualization\n",
    "fig, ax = plt.subplots(figsize=(6,6))\n",
    "ax = sns.heatmap(test_cf,annot=True,cmap='Blues',cbar=False,fmt='.0%')\n",
    "ax.set(xlabel='Predicted Class',ylabel='Actual Class',title='Normalized Confusion Matrix')"
   ]
  },
  {
   "cell_type": "markdown",
   "metadata": {},
   "source": [
    "# model evaluation for mlp"
   ]
  },
  {
   "cell_type": "code",
   "execution_count": 34,
   "metadata": {},
   "outputs": [
    {
     "name": "stdout",
     "output_type": "stream",
     "text": [
      "Iteration 1, loss = 0.72608335\n",
      "Iteration 2, loss = 0.66090858\n",
      "Iteration 3, loss = 0.65895872\n",
      "Iteration 4, loss = 0.65766522\n",
      "Iteration 5, loss = 0.65647041\n",
      "Iteration 6, loss = 0.65460305\n",
      "Iteration 7, loss = 0.65384601\n",
      "Iteration 8, loss = 0.65334033\n",
      "Iteration 9, loss = 0.65300830\n",
      "Iteration 10, loss = 0.65292798\n",
      "Iteration 11, loss = 0.65247193\n",
      "Iteration 12, loss = 0.65215008\n",
      "Iteration 13, loss = 0.65222667\n",
      "Iteration 14, loss = 0.65208521\n",
      "Iteration 15, loss = 0.65185674\n",
      "Iteration 16, loss = 0.65181496\n",
      "Iteration 17, loss = 0.65159031\n",
      "Iteration 18, loss = 0.65182351\n",
      "Iteration 19, loss = 0.65124541\n",
      "Iteration 20, loss = 0.65105647\n",
      "Iteration 21, loss = 0.65065472\n",
      "Iteration 22, loss = 0.65075334\n",
      "Iteration 23, loss = 0.65080663\n",
      "Iteration 24, loss = 0.65050352\n",
      "Iteration 25, loss = 0.65049194\n",
      "Iteration 26, loss = 0.65015912\n",
      "Iteration 27, loss = 0.65014219\n",
      "Iteration 28, loss = 0.65002215\n",
      "Iteration 29, loss = 0.64998207\n",
      "Iteration 30, loss = 0.64965913\n",
      "Iteration 31, loss = 0.64950904\n",
      "Iteration 32, loss = 0.64953936\n",
      "Iteration 33, loss = 0.64907600\n",
      "Iteration 34, loss = 0.64920720\n",
      "Iteration 35, loss = 0.64894840\n",
      "Iteration 36, loss = 0.64858804\n",
      "Iteration 37, loss = 0.64875751\n",
      "Iteration 38, loss = 0.64842367\n",
      "Iteration 39, loss = 0.64875156\n",
      "Iteration 40, loss = 0.64843854\n",
      "Iteration 41, loss = 0.64831678\n",
      "Iteration 42, loss = 0.64810403\n",
      "Iteration 43, loss = 0.64787229\n",
      "Iteration 44, loss = 0.64814649\n",
      "Iteration 45, loss = 0.64796129\n",
      "Iteration 46, loss = 0.64823798\n",
      "Iteration 47, loss = 0.64787066\n",
      "Iteration 48, loss = 0.64780198\n",
      "Iteration 49, loss = 0.64768181\n",
      "Iteration 50, loss = 0.64745631\n",
      "Iteration 51, loss = 0.64749633\n",
      "Iteration 52, loss = 0.64761016\n",
      "Iteration 53, loss = 0.64753338\n",
      "Iteration 54, loss = 0.64733868\n",
      "Iteration 55, loss = 0.64746761\n",
      "Iteration 56, loss = 0.64730823\n",
      "Iteration 57, loss = 0.64740901\n",
      "Iteration 58, loss = 0.64728780\n",
      "Iteration 59, loss = 0.64713994\n",
      "Iteration 60, loss = 0.64728661\n",
      "Iteration 61, loss = 0.64718044\n",
      "Iteration 62, loss = 0.64699741\n",
      "Iteration 63, loss = 0.64711086\n",
      "Iteration 64, loss = 0.64714531\n",
      "Iteration 65, loss = 0.64700625\n",
      "Iteration 66, loss = 0.64724403\n",
      "Iteration 67, loss = 0.64715385\n",
      "Iteration 68, loss = 0.64691354\n",
      "Iteration 69, loss = 0.64692007\n",
      "Iteration 70, loss = 0.64677827\n",
      "Iteration 71, loss = 0.64700129\n",
      "Iteration 72, loss = 0.64700611\n",
      "Iteration 73, loss = 0.64691142\n",
      "Iteration 74, loss = 0.64683286\n",
      "Iteration 75, loss = 0.64718486\n",
      "Iteration 76, loss = 0.64697359\n",
      "Iteration 77, loss = 0.64691370\n",
      "Iteration 78, loss = 0.64691781\n",
      "Iteration 79, loss = 0.64656984\n",
      "Iteration 80, loss = 0.64696634\n",
      "Iteration 81, loss = 0.64673666\n",
      "Iteration 82, loss = 0.64669516\n",
      "Iteration 83, loss = 0.64691846\n",
      "Iteration 84, loss = 0.64661062\n",
      "Iteration 85, loss = 0.64696341\n",
      "Iteration 86, loss = 0.64667515\n",
      "Iteration 87, loss = 0.64657442\n",
      "Iteration 88, loss = 0.64656231\n",
      "Iteration 89, loss = 0.64654055\n",
      "Iteration 90, loss = 0.64650278\n",
      "Training loss did not improve more than tol=0.000100 for 10 consecutive epochs. Stopping.\n"
     ]
    }
   ],
   "source": [
    "classifier = MLPClassifier(hidden_layer_sizes=(25,), verbose=True)\n",
    "pipe = Pipeline(steps=[('preprocessor', preprocessor),\n",
    "              ('classifier', classifier)])\n",
    "pipe.fit(X_train, y_train)   \n",
    "y_pred = pipe.predict(X_test)"
   ]
  },
  {
   "cell_type": "code",
   "execution_count": 35,
   "metadata": {},
   "outputs": [
    {
     "data": {
      "image/png": "[encoded data removed]",
      "text/plain": [
       "<Figure size 432x288 with 1 Axes>"
      ]
     },
     "metadata": {
      "needs_background": "light"
     },
     "output_type": "display_data"
    }
   ],
   "source": [
    "aucscore = metrics.roc_auc_score(y_pred, y_test)\n",
    "\n",
    "fpr, tpr,_=roc_curve(y_pred, y_test)\n",
    "\n",
    "plt.plot(fpr, tpr, color='red',lw=2, label='ROC curve')\n",
    "plt.plot([0, 1], [0, 1], color='blue', lw=2, linestyle='--')\n",
    "plt.xlabel('FPR')\n",
    "plt.ylabel('TPR')\n",
    "plt.title('ROC Curve AUC = '+ str(aucscore.round(4)))\n",
    "plt.show()"
   ]
  },
  {
   "cell_type": "code",
   "execution_count": 36,
   "metadata": {},
   "outputs": [
    {
     "data": {
      "text/plain": [
       "[Text(33.0, 0.5, 'Actual Class'),\n",
       " Text(0.5, 33.0, 'Predicted Class'),\n",
       " Text(0.5, 1.0, 'Confusion Matrix')]"
      ]
     },
     "execution_count": 36,
     "metadata": {},
     "output_type": "execute_result"
    },
    {
     "data": {
      "image/png": "[encoded data removed]",
      "text/plain": [
       "<Figure size 432x432 with 1 Axes>"
      ]
     },
     "metadata": {
      "needs_background": "light"
     },
     "output_type": "display_data"
    }
   ],
   "source": [
    "test_cf = pd.DataFrame(confusion_matrix(y_test,y_pred))\n",
    "\n",
    "fig, ax = plt.subplots(figsize=(6,6))\n",
    "ax = sns.heatmap(test_cf,annot=True,fmt='d',cmap='Blues',cbar=False)\n",
    "ax.set(xlabel='Predicted Class',ylabel='Actual Class',title='Confusion Matrix')"
   ]
  },
  {
   "cell_type": "code",
   "execution_count": 37,
   "metadata": {},
   "outputs": [
    {
     "data": {
      "text/plain": [
       "[Text(33.0, 0.5, 'Actual Class'),\n",
       " Text(0.5, 33.0, 'Predicted Class'),\n",
       " Text(0.5, 1.0, 'Normalized Confusion Matrix')]"
      ]
     },
     "execution_count": 37,
     "metadata": {},
     "output_type": "execute_result"
    },
    {
     "data": {
      "image/png": "[encoded data removed]",
      "text/plain": [
       "<Figure size 432x432 with 1 Axes>"
      ]
     },
     "metadata": {
      "needs_background": "light"
     },
     "output_type": "display_data"
    }
   ],
   "source": [
    "#returns an array of the number of samples per quadrant\n",
    "test_cf = confusion_matrix(y_test,y_pred)\n",
    "\n",
    "#for each row, divides the values by the row sum\n",
    "test_cf = test_cf.astype('float') / test_cf.sum(axis=1)[:, np.newaxis]\n",
    "test_cf = pd.DataFrame(test_cf)\n",
    "                           \n",
    "#create visualization\n",
    "fig, ax = plt.subplots(figsize=(6,6))\n",
    "ax = sns.heatmap(test_cf,annot=True,cmap='Blues',cbar=False,fmt='.0%')\n",
    "ax.set(xlabel='Predicted Class',ylabel='Actual Class',title='Normalized Confusion Matrix')"
   ]
  },
  {
   "cell_type": "code",
   "execution_count": 79,
   "metadata": {},
   "outputs": [
    {
     "ename": "TypeError",
     "evalue": "unsupported operand type(s) for /: 'str' and 'int'",
     "output_type": "error",
     "traceback": [
      "\u001b[0;31m---------------------------------------------------------------------------\u001b[0m",
      "\u001b[0;31mTypeError\u001b[0m                                 Traceback (most recent call last)",
      "\u001b[0;32m<ipython-input-79-62fe48539dc1>\u001b[0m in \u001b[0;36m<module>\u001b[0;34m\u001b[0m\n\u001b[0;32m----> 1\u001b[0;31m \u001b[0mcorr\u001b[0m \u001b[0;34m=\u001b[0m \u001b[0mnp\u001b[0m\u001b[0;34m.\u001b[0m\u001b[0mcorrcoef\u001b[0m\u001b[0;34m(\u001b[0m\u001b[0mX\u001b[0m\u001b[0;34m.\u001b[0m\u001b[0mT\u001b[0m\u001b[0;34m)\u001b[0m\u001b[0;34m\u001b[0m\u001b[0;34m\u001b[0m\u001b[0m\n\u001b[0m\u001b[1;32m      2\u001b[0m \u001b[0;31m#must take transpose to get column-wise correlations\u001b[0m\u001b[0;34m\u001b[0m\u001b[0;34m\u001b[0m\u001b[0;34m\u001b[0m\u001b[0m\n\u001b[1;32m      3\u001b[0m \u001b[0;31m#visualize correlation matrix with a heatmap\u001b[0m\u001b[0;34m\u001b[0m\u001b[0;34m\u001b[0m\u001b[0;34m\u001b[0m\u001b[0m\n",
      "\u001b[0;32m<__array_function__ internals>\u001b[0m in \u001b[0;36mcorrcoef\u001b[0;34m(*args, **kwargs)\u001b[0m\n",
      "\u001b[0;32m~/anaconda3/lib/python3.7/site-packages/numpy/lib/function_base.py\u001b[0m in \u001b[0;36mcorrcoef\u001b[0;34m(x, y, rowvar, bias, ddof)\u001b[0m\n\u001b[1;32m   2524\u001b[0m         warnings.warn('bias and ddof have no effect and are deprecated',\n\u001b[1;32m   2525\u001b[0m                       DeprecationWarning, stacklevel=3)\n\u001b[0;32m-> 2526\u001b[0;31m     \u001b[0mc\u001b[0m \u001b[0;34m=\u001b[0m \u001b[0mcov\u001b[0m\u001b[0;34m(\u001b[0m\u001b[0mx\u001b[0m\u001b[0;34m,\u001b[0m \u001b[0my\u001b[0m\u001b[0;34m,\u001b[0m \u001b[0mrowvar\u001b[0m\u001b[0;34m)\u001b[0m\u001b[0;34m\u001b[0m\u001b[0;34m\u001b[0m\u001b[0m\n\u001b[0m\u001b[1;32m   2527\u001b[0m     \u001b[0;32mtry\u001b[0m\u001b[0;34m:\u001b[0m\u001b[0;34m\u001b[0m\u001b[0;34m\u001b[0m\u001b[0m\n\u001b[1;32m   2528\u001b[0m         \u001b[0md\u001b[0m \u001b[0;34m=\u001b[0m \u001b[0mdiag\u001b[0m\u001b[0;34m(\u001b[0m\u001b[0mc\u001b[0m\u001b[0;34m)\u001b[0m\u001b[0;34m\u001b[0m\u001b[0;34m\u001b[0m\u001b[0m\n",
      "\u001b[0;32m<__array_function__ internals>\u001b[0m in \u001b[0;36mcov\u001b[0;34m(*args, **kwargs)\u001b[0m\n",
      "\u001b[0;32m~/anaconda3/lib/python3.7/site-packages/numpy/lib/function_base.py\u001b[0m in \u001b[0;36mcov\u001b[0;34m(m, y, rowvar, bias, ddof, fweights, aweights)\u001b[0m\n\u001b[1;32m   2429\u001b[0m             \u001b[0mw\u001b[0m \u001b[0;34m*=\u001b[0m \u001b[0maweights\u001b[0m\u001b[0;34m\u001b[0m\u001b[0;34m\u001b[0m\u001b[0m\n\u001b[1;32m   2430\u001b[0m \u001b[0;34m\u001b[0m\u001b[0m\n\u001b[0;32m-> 2431\u001b[0;31m     \u001b[0mavg\u001b[0m\u001b[0;34m,\u001b[0m \u001b[0mw_sum\u001b[0m \u001b[0;34m=\u001b[0m \u001b[0maverage\u001b[0m\u001b[0;34m(\u001b[0m\u001b[0mX\u001b[0m\u001b[0;34m,\u001b[0m \u001b[0maxis\u001b[0m\u001b[0;34m=\u001b[0m\u001b[0;36m1\u001b[0m\u001b[0;34m,\u001b[0m \u001b[0mweights\u001b[0m\u001b[0;34m=\u001b[0m\u001b[0mw\u001b[0m\u001b[0;34m,\u001b[0m \u001b[0mreturned\u001b[0m\u001b[0;34m=\u001b[0m\u001b[0;32mTrue\u001b[0m\u001b[0;34m)\u001b[0m\u001b[0;34m\u001b[0m\u001b[0;34m\u001b[0m\u001b[0m\n\u001b[0m\u001b[1;32m   2432\u001b[0m     \u001b[0mw_sum\u001b[0m \u001b[0;34m=\u001b[0m \u001b[0mw_sum\u001b[0m\u001b[0;34m[\u001b[0m\u001b[0;36m0\u001b[0m\u001b[0;34m]\u001b[0m\u001b[0;34m\u001b[0m\u001b[0;34m\u001b[0m\u001b[0m\n\u001b[1;32m   2433\u001b[0m \u001b[0;34m\u001b[0m\u001b[0m\n",
      "\u001b[0;32m<__array_function__ internals>\u001b[0m in \u001b[0;36maverage\u001b[0;34m(*args, **kwargs)\u001b[0m\n",
      "\u001b[0;32m~/anaconda3/lib/python3.7/site-packages/numpy/lib/function_base.py\u001b[0m in \u001b[0;36maverage\u001b[0;34m(a, axis, weights, returned)\u001b[0m\n\u001b[1;32m    391\u001b[0m \u001b[0;34m\u001b[0m\u001b[0m\n\u001b[1;32m    392\u001b[0m     \u001b[0;32mif\u001b[0m \u001b[0mweights\u001b[0m \u001b[0;32mis\u001b[0m \u001b[0;32mNone\u001b[0m\u001b[0;34m:\u001b[0m\u001b[0;34m\u001b[0m\u001b[0;34m\u001b[0m\u001b[0m\n\u001b[0;32m--> 393\u001b[0;31m         \u001b[0mavg\u001b[0m \u001b[0;34m=\u001b[0m \u001b[0ma\u001b[0m\u001b[0;34m.\u001b[0m\u001b[0mmean\u001b[0m\u001b[0;34m(\u001b[0m\u001b[0maxis\u001b[0m\u001b[0;34m)\u001b[0m\u001b[0;34m\u001b[0m\u001b[0;34m\u001b[0m\u001b[0m\n\u001b[0m\u001b[1;32m    394\u001b[0m         \u001b[0mscl\u001b[0m \u001b[0;34m=\u001b[0m \u001b[0mavg\u001b[0m\u001b[0;34m.\u001b[0m\u001b[0mdtype\u001b[0m\u001b[0;34m.\u001b[0m\u001b[0mtype\u001b[0m\u001b[0;34m(\u001b[0m\u001b[0ma\u001b[0m\u001b[0;34m.\u001b[0m\u001b[0msize\u001b[0m\u001b[0;34m/\u001b[0m\u001b[0mavg\u001b[0m\u001b[0;34m.\u001b[0m\u001b[0msize\u001b[0m\u001b[0;34m)\u001b[0m\u001b[0;34m\u001b[0m\u001b[0;34m\u001b[0m\u001b[0m\n\u001b[1;32m    395\u001b[0m     \u001b[0;32melse\u001b[0m\u001b[0;34m:\u001b[0m\u001b[0;34m\u001b[0m\u001b[0;34m\u001b[0m\u001b[0m\n",
      "\u001b[0;32m~/anaconda3/lib/python3.7/site-packages/numpy/core/_methods.py\u001b[0m in \u001b[0;36m_mean\u001b[0;34m(a, axis, dtype, out, keepdims)\u001b[0m\n\u001b[1;32m    152\u001b[0m     \u001b[0;32mif\u001b[0m \u001b[0misinstance\u001b[0m\u001b[0;34m(\u001b[0m\u001b[0mret\u001b[0m\u001b[0;34m,\u001b[0m \u001b[0mmu\u001b[0m\u001b[0;34m.\u001b[0m\u001b[0mndarray\u001b[0m\u001b[0;34m)\u001b[0m\u001b[0;34m:\u001b[0m\u001b[0;34m\u001b[0m\u001b[0;34m\u001b[0m\u001b[0m\n\u001b[1;32m    153\u001b[0m         ret = um.true_divide(\n\u001b[0;32m--> 154\u001b[0;31m                 ret, rcount, out=ret, casting='unsafe', subok=False)\n\u001b[0m\u001b[1;32m    155\u001b[0m         \u001b[0;32mif\u001b[0m \u001b[0mis_float16_result\u001b[0m \u001b[0;32mand\u001b[0m \u001b[0mout\u001b[0m \u001b[0;32mis\u001b[0m \u001b[0;32mNone\u001b[0m\u001b[0;34m:\u001b[0m\u001b[0;34m\u001b[0m\u001b[0;34m\u001b[0m\u001b[0m\n\u001b[1;32m    156\u001b[0m             \u001b[0mret\u001b[0m \u001b[0;34m=\u001b[0m \u001b[0marr\u001b[0m\u001b[0;34m.\u001b[0m\u001b[0mdtype\u001b[0m\u001b[0;34m.\u001b[0m\u001b[0mtype\u001b[0m\u001b[0;34m(\u001b[0m\u001b[0mret\u001b[0m\u001b[0;34m)\u001b[0m\u001b[0;34m\u001b[0m\u001b[0;34m\u001b[0m\u001b[0m\n",
      "\u001b[0;31mTypeError\u001b[0m: unsupported operand type(s) for /: 'str' and 'int'"
     ]
    }
   ],
   "source": [
    "corr = np.corrcoef(X.T)\n",
    "#must take transpose to get column-wise correlations\n",
    "#visualize correlation matrix with a heatmap"
   ]
  },
  {
   "cell_type": "code",
   "execution_count": null,
   "metadata": {},
   "outputs": [],
   "source": [
    "corr"
   ]
  },
  {
   "cell_type": "code",
   "execution_count": null,
   "metadata": {},
   "outputs": [],
   "source": [
    "sns.heatmap(corr,vmin=-1,vmax=1)"
   ]
  }
 ],
 "metadata": {
  "kernelspec": {
   "display_name": "Python 3",
   "language": "python",
   "name": "python3"
  },
  "language_info": {
   "codemirror_mode": {
    "name": "ipython",
    "version": 3
   },
   "file_extension": ".py",
   "mimetype": "text/x-python",
   "name": "python",
   "nbconvert_exporter": "python",
   "pygments_lexer": "ipython3",
   "version": "3.7.3"
  }
 },
 "nbformat": 4,
 "nbformat_minor": 2
}
